{
 "cells": [
  {
   "cell_type": "code",
   "execution_count": 111,
   "metadata": {},
   "outputs": [],
   "source": [
    "import pyspark as ps\n",
    "from pyspark.sql.types import *\n",
    "import pandas as pd\n",
    "import numpy as np\n",
    "import matplotlib.pyplot as plt\n",
    "from datetime import datetime, date, time\n",
    "from scipy import stats"
   ]
  },
  {
   "cell_type": "code",
   "execution_count": 2,
   "metadata": {},
   "outputs": [],
   "source": [
    "spark = ps.sql.SparkSession.builder \\\n",
    "            .master(\"local[4]\") \\\n",
    "            .appName(\"df case study\") \\\n",
    "            .getOrCreate()\n",
    "sc = spark.sparkContext"
   ]
  },
  {
   "cell_type": "code",
   "execution_count": 3,
   "metadata": {},
   "outputs": [],
   "source": [
    "results_df = spark.read.csv('data/2019-Ironman-World-Championship-Results.csv',\n",
    "                            header=True,\n",
    "                            quote='\"',\n",
    "                            sep=',',\n",
    "                            inferSchema=True)"
   ]
  },
  {
   "cell_type": "code",
   "execution_count": 4,
   "metadata": {},
   "outputs": [],
   "source": [
    "results_df.createOrReplaceTempView('df')"
   ]
  },
  {
   "cell_type": "code",
   "execution_count": 5,
   "metadata": {},
   "outputs": [
    {
     "name": "stdout",
     "output_type": "stream",
     "text": [
      "root\n",
      " |-- BIB: integer (nullable = true)\n",
      " |-- Name: string (nullable = true)\n",
      " |-- Country: string (nullable = true)\n",
      " |-- Gender: string (nullable = true)\n",
      " |-- Division: string (nullable = true)\n",
      " |-- Swim: string (nullable = true)\n",
      " |-- Bike: string (nullable = true)\n",
      " |-- Run: string (nullable = true)\n",
      " |-- Overall: string (nullable = true)\n",
      " |-- Division Rank: string (nullable = true)\n",
      " |-- Gender Rank: string (nullable = true)\n",
      " |-- Overall Rank: string (nullable = true)\n",
      " |-- T1: string (nullable = true)\n",
      " |-- T2: string (nullable = true)\n",
      "\n"
     ]
    },
    {
     "data": {
      "text/plain": [
       "['BIB',\n",
       " 'Name',\n",
       " 'Country',\n",
       " 'Gender',\n",
       " 'Division',\n",
       " 'Swim',\n",
       " 'Bike',\n",
       " 'Run',\n",
       " 'Overall',\n",
       " 'Division Rank',\n",
       " 'Gender Rank',\n",
       " 'Overall Rank',\n",
       " 'T1',\n",
       " 'T2']"
      ]
     },
     "execution_count": 5,
     "metadata": {},
     "output_type": "execute_result"
    }
   ],
   "source": [
    "results_df.printSchema()\n",
    "results_df.columns"
   ]
  },
  {
   "cell_type": "code",
   "execution_count": 6,
   "metadata": {},
   "outputs": [
    {
     "data": {
      "text/html": [
       "<div>\n",
       "<style scoped>\n",
       "    .dataframe tbody tr th:only-of-type {\n",
       "        vertical-align: middle;\n",
       "    }\n",
       "\n",
       "    .dataframe tbody tr th {\n",
       "        vertical-align: top;\n",
       "    }\n",
       "\n",
       "    .dataframe thead th {\n",
       "        text-align: right;\n",
       "    }\n",
       "</style>\n",
       "<table border=\"1\" class=\"dataframe\">\n",
       "  <thead>\n",
       "    <tr style=\"text-align: right;\">\n",
       "      <th></th>\n",
       "      <th>Name</th>\n",
       "      <th>Country</th>\n",
       "      <th>Gender</th>\n",
       "      <th>Division</th>\n",
       "      <th>Swim</th>\n",
       "      <th>Bike</th>\n",
       "      <th>Run</th>\n",
       "      <th>Overall</th>\n",
       "      <th>Division Rank</th>\n",
       "      <th>Gender Rank</th>\n",
       "      <th>Overall Rank</th>\n",
       "      <th>T1</th>\n",
       "      <th>T2</th>\n",
       "    </tr>\n",
       "  </thead>\n",
       "  <tbody>\n",
       "    <tr>\n",
       "      <th>0</th>\n",
       "      <td>Frodeno, Jan</td>\n",
       "      <td>DEU</td>\n",
       "      <td>Male</td>\n",
       "      <td>MPRO</td>\n",
       "      <td>00:47:31</td>\n",
       "      <td>04:16:02</td>\n",
       "      <td>02:42:43</td>\n",
       "      <td>07:51:13</td>\n",
       "      <td>1</td>\n",
       "      <td>1</td>\n",
       "      <td>1</td>\n",
       "      <td>00:01:58</td>\n",
       "      <td>00:02:59</td>\n",
       "    </tr>\n",
       "    <tr>\n",
       "      <th>1</th>\n",
       "      <td>O'donnell, Tim</td>\n",
       "      <td>USA</td>\n",
       "      <td>Male</td>\n",
       "      <td>MPRO</td>\n",
       "      <td>00:47:38</td>\n",
       "      <td>04:18:11</td>\n",
       "      <td>02:49:45</td>\n",
       "      <td>07:59:41</td>\n",
       "      <td>2</td>\n",
       "      <td>2</td>\n",
       "      <td>2</td>\n",
       "      <td>00:02:01</td>\n",
       "      <td>00:02:06</td>\n",
       "    </tr>\n",
       "    <tr>\n",
       "      <th>2</th>\n",
       "      <td>Kienle, Sebastian</td>\n",
       "      <td>DEU</td>\n",
       "      <td>Male</td>\n",
       "      <td>MPRO</td>\n",
       "      <td>00:52:17</td>\n",
       "      <td>04:15:04</td>\n",
       "      <td>02:49:56</td>\n",
       "      <td>08:02:04</td>\n",
       "      <td>3</td>\n",
       "      <td>3</td>\n",
       "      <td>3</td>\n",
       "      <td>00:02:12</td>\n",
       "      <td>00:02:35</td>\n",
       "    </tr>\n",
       "    <tr>\n",
       "      <th>3</th>\n",
       "      <td>Hoffman, Ben</td>\n",
       "      <td>USA</td>\n",
       "      <td>Male</td>\n",
       "      <td>MPRO</td>\n",
       "      <td>00:51:01</td>\n",
       "      <td>04:24:01</td>\n",
       "      <td>02:43:08</td>\n",
       "      <td>08:02:52</td>\n",
       "      <td>4</td>\n",
       "      <td>4</td>\n",
       "      <td>4</td>\n",
       "      <td>00:02:25</td>\n",
       "      <td>00:02:17</td>\n",
       "    </tr>\n",
       "    <tr>\n",
       "      <th>4</th>\n",
       "      <td>Wurf, Cameron</td>\n",
       "      <td>AUS</td>\n",
       "      <td>Male</td>\n",
       "      <td>MPRO</td>\n",
       "      <td>00:52:25</td>\n",
       "      <td>04:14:44</td>\n",
       "      <td>02:55:03</td>\n",
       "      <td>08:06:41</td>\n",
       "      <td>5</td>\n",
       "      <td>5</td>\n",
       "      <td>5</td>\n",
       "      <td>00:02:07</td>\n",
       "      <td>00:02:22</td>\n",
       "    </tr>\n",
       "    <tr>\n",
       "      <th>...</th>\n",
       "      <td>...</td>\n",
       "      <td>...</td>\n",
       "      <td>...</td>\n",
       "      <td>...</td>\n",
       "      <td>...</td>\n",
       "      <td>...</td>\n",
       "      <td>...</td>\n",
       "      <td>...</td>\n",
       "      <td>...</td>\n",
       "      <td>...</td>\n",
       "      <td>...</td>\n",
       "      <td>...</td>\n",
       "      <td>...</td>\n",
       "    </tr>\n",
       "    <tr>\n",
       "      <th>2253</th>\n",
       "      <td>Beavers, Cathy</td>\n",
       "      <td>USA</td>\n",
       "      <td>Female</td>\n",
       "      <td>F65-69</td>\n",
       "      <td>01:45:30</td>\n",
       "      <td>08:25:01</td>\n",
       "      <td>06:18:52</td>\n",
       "      <td>16:50:03</td>\n",
       "      <td>26</td>\n",
       "      <td>609</td>\n",
       "      <td>2262</td>\n",
       "      <td>00:10:25</td>\n",
       "      <td>00:10:15</td>\n",
       "    </tr>\n",
       "    <tr>\n",
       "      <th>2254</th>\n",
       "      <td>Whitehouse, Paul</td>\n",
       "      <td>USA</td>\n",
       "      <td>Male</td>\n",
       "      <td>M70-74</td>\n",
       "      <td>02:06:01</td>\n",
       "      <td>07:51:20</td>\n",
       "      <td>06:29:34</td>\n",
       "      <td>16:50:04</td>\n",
       "      <td>28</td>\n",
       "      <td>1654</td>\n",
       "      <td>2263</td>\n",
       "      <td>00:11:49</td>\n",
       "      <td>00:11:20</td>\n",
       "    </tr>\n",
       "    <tr>\n",
       "      <th>2255</th>\n",
       "      <td>Svoboda-vasquez, Hanna</td>\n",
       "      <td>DEU</td>\n",
       "      <td>Female</td>\n",
       "      <td>F50-54</td>\n",
       "      <td>01:29:33</td>\n",
       "      <td>08:16:27</td>\n",
       "      <td>06:47:42</td>\n",
       "      <td>16:51:03</td>\n",
       "      <td>66</td>\n",
       "      <td>610</td>\n",
       "      <td>2264</td>\n",
       "      <td>00:09:47</td>\n",
       "      <td>00:07:34</td>\n",
       "    </tr>\n",
       "    <tr>\n",
       "      <th>2256</th>\n",
       "      <td>Piasentini, Edgardo</td>\n",
       "      <td>ARG</td>\n",
       "      <td>Male</td>\n",
       "      <td>M65-69</td>\n",
       "      <td>01:42:27</td>\n",
       "      <td>07:42:09</td>\n",
       "      <td>07:13:49</td>\n",
       "      <td>16:53:21</td>\n",
       "      <td>50</td>\n",
       "      <td>1655</td>\n",
       "      <td>2265</td>\n",
       "      <td>00:06:17</td>\n",
       "      <td>00:08:39</td>\n",
       "    </tr>\n",
       "    <tr>\n",
       "      <th>2257</th>\n",
       "      <td>Yotov, Kamen</td>\n",
       "      <td>BGR</td>\n",
       "      <td>Male</td>\n",
       "      <td>M40-44</td>\n",
       "      <td>01:32:30</td>\n",
       "      <td>07:57:24</td>\n",
       "      <td>07:03:42</td>\n",
       "      <td>16:57:09</td>\n",
       "      <td>274</td>\n",
       "      <td>1656</td>\n",
       "      <td>2266</td>\n",
       "      <td>00:13:25</td>\n",
       "      <td>00:10:08</td>\n",
       "    </tr>\n",
       "  </tbody>\n",
       "</table>\n",
       "<p>2256 rows × 13 columns</p>\n",
       "</div>"
      ],
      "text/plain": [
       "                        Name Country  Gender Division      Swim      Bike  \\\n",
       "0               Frodeno, Jan     DEU    Male     MPRO  00:47:31  04:16:02   \n",
       "1             O'donnell, Tim     USA    Male     MPRO  00:47:38  04:18:11   \n",
       "2          Kienle, Sebastian     DEU    Male     MPRO  00:52:17  04:15:04   \n",
       "3               Hoffman, Ben     USA    Male     MPRO  00:51:01  04:24:01   \n",
       "4              Wurf, Cameron     AUS    Male     MPRO  00:52:25  04:14:44   \n",
       "...                      ...     ...     ...      ...       ...       ...   \n",
       "2253          Beavers, Cathy     USA  Female   F65-69  01:45:30  08:25:01   \n",
       "2254        Whitehouse, Paul     USA    Male   M70-74  02:06:01  07:51:20   \n",
       "2255  Svoboda-vasquez, Hanna     DEU  Female   F50-54  01:29:33  08:16:27   \n",
       "2256     Piasentini, Edgardo     ARG    Male   M65-69  01:42:27  07:42:09   \n",
       "2257            Yotov, Kamen     BGR    Male   M40-44  01:32:30  07:57:24   \n",
       "\n",
       "           Run   Overall Division Rank Gender Rank Overall Rank        T1  \\\n",
       "0     02:42:43  07:51:13             1           1            1  00:01:58   \n",
       "1     02:49:45  07:59:41             2           2            2  00:02:01   \n",
       "2     02:49:56  08:02:04             3           3            3  00:02:12   \n",
       "3     02:43:08  08:02:52             4           4            4  00:02:25   \n",
       "4     02:55:03  08:06:41             5           5            5  00:02:07   \n",
       "...        ...       ...           ...         ...          ...       ...   \n",
       "2253  06:18:52  16:50:03            26         609         2262  00:10:25   \n",
       "2254  06:29:34  16:50:04            28        1654         2263  00:11:49   \n",
       "2255  06:47:42  16:51:03            66         610         2264  00:09:47   \n",
       "2256  07:13:49  16:53:21            50        1655         2265  00:06:17   \n",
       "2257  07:03:42  16:57:09           274        1656         2266  00:13:25   \n",
       "\n",
       "            T2  \n",
       "0     00:02:59  \n",
       "1     00:02:06  \n",
       "2     00:02:35  \n",
       "3     00:02:17  \n",
       "4     00:02:22  \n",
       "...        ...  \n",
       "2253  00:10:15  \n",
       "2254  00:11:20  \n",
       "2255  00:07:34  \n",
       "2256  00:08:39  \n",
       "2257  00:10:08  \n",
       "\n",
       "[2256 rows x 13 columns]"
      ]
     },
     "execution_count": 6,
     "metadata": {},
     "output_type": "execute_result"
    }
   ],
   "source": [
    "df = results_df.toPandas()\n",
    "df.drop(['BIB'],axis=1,inplace=True)\n",
    "\n",
    "# Remove Nones\n",
    "df.dropna(inplace=True)\n",
    "\n",
    "df"
   ]
  },
  {
   "cell_type": "code",
   "execution_count": 7,
   "metadata": {},
   "outputs": [
    {
     "data": {
      "text/plain": [
       "Name                      object\n",
       "Country                   object\n",
       "Gender                    object\n",
       "Division                  object\n",
       "Swim             timedelta64[ns]\n",
       "Bike             timedelta64[ns]\n",
       "Run              timedelta64[ns]\n",
       "Overall          timedelta64[ns]\n",
       "Division Rank             object\n",
       "Gender Rank               object\n",
       "Overall Rank              object\n",
       "T1               timedelta64[ns]\n",
       "T2               timedelta64[ns]\n",
       "dtype: object"
      ]
     },
     "execution_count": 7,
     "metadata": {},
     "output_type": "execute_result"
    }
   ],
   "source": [
    "# Convert None in Swim, Bike, Run, Overall, T1, and T2 to datetime\n",
    "# These need to be converted to time intervals NOT datetime (<- time stamp)\n",
    "# pd.to_timedelta\n",
    "cols_to_clean = ['Swim', 'Bike', 'Run', 'Overall', 'T1', 'T2']\n",
    "df[cols_to_clean] = df[cols_to_clean].apply(pd.to_timedelta, unit='s')\n",
    "df.dtypes"
   ]
  },
  {
   "cell_type": "code",
   "execution_count": 8,
   "metadata": {},
   "outputs": [
    {
     "data": {
      "text/html": [
       "<div>\n",
       "<style scoped>\n",
       "    .dataframe tbody tr th:only-of-type {\n",
       "        vertical-align: middle;\n",
       "    }\n",
       "\n",
       "    .dataframe tbody tr th {\n",
       "        vertical-align: top;\n",
       "    }\n",
       "\n",
       "    .dataframe thead th {\n",
       "        text-align: right;\n",
       "    }\n",
       "</style>\n",
       "<table border=\"1\" class=\"dataframe\">\n",
       "  <thead>\n",
       "    <tr style=\"text-align: right;\">\n",
       "      <th></th>\n",
       "      <th>Name</th>\n",
       "      <th>Country</th>\n",
       "      <th>Gender</th>\n",
       "      <th>Division</th>\n",
       "      <th>Swim</th>\n",
       "      <th>Bike</th>\n",
       "      <th>Run</th>\n",
       "      <th>Overall</th>\n",
       "      <th>Division Rank</th>\n",
       "      <th>Gender Rank</th>\n",
       "      <th>Overall Rank</th>\n",
       "      <th>T1</th>\n",
       "      <th>T2</th>\n",
       "    </tr>\n",
       "  </thead>\n",
       "  <tbody>\n",
       "    <tr>\n",
       "      <th>0</th>\n",
       "      <td>Frodeno, Jan</td>\n",
       "      <td>DEU</td>\n",
       "      <td>Male</td>\n",
       "      <td>MPRO</td>\n",
       "      <td>00:47:31</td>\n",
       "      <td>04:16:02</td>\n",
       "      <td>02:42:43</td>\n",
       "      <td>07:51:13</td>\n",
       "      <td>1</td>\n",
       "      <td>1</td>\n",
       "      <td>1</td>\n",
       "      <td>00:01:58</td>\n",
       "      <td>00:02:59</td>\n",
       "    </tr>\n",
       "    <tr>\n",
       "      <th>1</th>\n",
       "      <td>O'donnell, Tim</td>\n",
       "      <td>USA</td>\n",
       "      <td>Male</td>\n",
       "      <td>MPRO</td>\n",
       "      <td>00:47:38</td>\n",
       "      <td>04:18:11</td>\n",
       "      <td>02:49:45</td>\n",
       "      <td>07:59:41</td>\n",
       "      <td>2</td>\n",
       "      <td>2</td>\n",
       "      <td>2</td>\n",
       "      <td>00:02:01</td>\n",
       "      <td>00:02:06</td>\n",
       "    </tr>\n",
       "    <tr>\n",
       "      <th>2</th>\n",
       "      <td>Kienle, Sebastian</td>\n",
       "      <td>DEU</td>\n",
       "      <td>Male</td>\n",
       "      <td>MPRO</td>\n",
       "      <td>00:52:17</td>\n",
       "      <td>04:15:04</td>\n",
       "      <td>02:49:56</td>\n",
       "      <td>08:02:04</td>\n",
       "      <td>3</td>\n",
       "      <td>3</td>\n",
       "      <td>3</td>\n",
       "      <td>00:02:12</td>\n",
       "      <td>00:02:35</td>\n",
       "    </tr>\n",
       "    <tr>\n",
       "      <th>3</th>\n",
       "      <td>Hoffman, Ben</td>\n",
       "      <td>USA</td>\n",
       "      <td>Male</td>\n",
       "      <td>MPRO</td>\n",
       "      <td>00:51:01</td>\n",
       "      <td>04:24:01</td>\n",
       "      <td>02:43:08</td>\n",
       "      <td>08:02:52</td>\n",
       "      <td>4</td>\n",
       "      <td>4</td>\n",
       "      <td>4</td>\n",
       "      <td>00:02:25</td>\n",
       "      <td>00:02:17</td>\n",
       "    </tr>\n",
       "    <tr>\n",
       "      <th>4</th>\n",
       "      <td>Wurf, Cameron</td>\n",
       "      <td>AUS</td>\n",
       "      <td>Male</td>\n",
       "      <td>MPRO</td>\n",
       "      <td>00:52:25</td>\n",
       "      <td>04:14:44</td>\n",
       "      <td>02:55:03</td>\n",
       "      <td>08:06:41</td>\n",
       "      <td>5</td>\n",
       "      <td>5</td>\n",
       "      <td>5</td>\n",
       "      <td>00:02:07</td>\n",
       "      <td>00:02:22</td>\n",
       "    </tr>\n",
       "    <tr>\n",
       "      <th>...</th>\n",
       "      <td>...</td>\n",
       "      <td>...</td>\n",
       "      <td>...</td>\n",
       "      <td>...</td>\n",
       "      <td>...</td>\n",
       "      <td>...</td>\n",
       "      <td>...</td>\n",
       "      <td>...</td>\n",
       "      <td>...</td>\n",
       "      <td>...</td>\n",
       "      <td>...</td>\n",
       "      <td>...</td>\n",
       "      <td>...</td>\n",
       "    </tr>\n",
       "    <tr>\n",
       "      <th>2253</th>\n",
       "      <td>Beavers, Cathy</td>\n",
       "      <td>USA</td>\n",
       "      <td>Female</td>\n",
       "      <td>F65-69</td>\n",
       "      <td>01:45:30</td>\n",
       "      <td>08:25:01</td>\n",
       "      <td>06:18:52</td>\n",
       "      <td>16:50:03</td>\n",
       "      <td>26</td>\n",
       "      <td>609</td>\n",
       "      <td>2262</td>\n",
       "      <td>00:10:25</td>\n",
       "      <td>00:10:15</td>\n",
       "    </tr>\n",
       "    <tr>\n",
       "      <th>2254</th>\n",
       "      <td>Whitehouse, Paul</td>\n",
       "      <td>USA</td>\n",
       "      <td>Male</td>\n",
       "      <td>M70-74</td>\n",
       "      <td>02:06:01</td>\n",
       "      <td>07:51:20</td>\n",
       "      <td>06:29:34</td>\n",
       "      <td>16:50:04</td>\n",
       "      <td>28</td>\n",
       "      <td>1654</td>\n",
       "      <td>2263</td>\n",
       "      <td>00:11:49</td>\n",
       "      <td>00:11:20</td>\n",
       "    </tr>\n",
       "    <tr>\n",
       "      <th>2255</th>\n",
       "      <td>Svoboda-vasquez, Hanna</td>\n",
       "      <td>DEU</td>\n",
       "      <td>Female</td>\n",
       "      <td>F50-54</td>\n",
       "      <td>01:29:33</td>\n",
       "      <td>08:16:27</td>\n",
       "      <td>06:47:42</td>\n",
       "      <td>16:51:03</td>\n",
       "      <td>66</td>\n",
       "      <td>610</td>\n",
       "      <td>2264</td>\n",
       "      <td>00:09:47</td>\n",
       "      <td>00:07:34</td>\n",
       "    </tr>\n",
       "    <tr>\n",
       "      <th>2256</th>\n",
       "      <td>Piasentini, Edgardo</td>\n",
       "      <td>ARG</td>\n",
       "      <td>Male</td>\n",
       "      <td>M65-69</td>\n",
       "      <td>01:42:27</td>\n",
       "      <td>07:42:09</td>\n",
       "      <td>07:13:49</td>\n",
       "      <td>16:53:21</td>\n",
       "      <td>50</td>\n",
       "      <td>1655</td>\n",
       "      <td>2265</td>\n",
       "      <td>00:06:17</td>\n",
       "      <td>00:08:39</td>\n",
       "    </tr>\n",
       "    <tr>\n",
       "      <th>2257</th>\n",
       "      <td>Yotov, Kamen</td>\n",
       "      <td>BGR</td>\n",
       "      <td>Male</td>\n",
       "      <td>M40-44</td>\n",
       "      <td>01:32:30</td>\n",
       "      <td>07:57:24</td>\n",
       "      <td>07:03:42</td>\n",
       "      <td>16:57:09</td>\n",
       "      <td>274</td>\n",
       "      <td>1656</td>\n",
       "      <td>2266</td>\n",
       "      <td>00:13:25</td>\n",
       "      <td>00:10:08</td>\n",
       "    </tr>\n",
       "  </tbody>\n",
       "</table>\n",
       "<p>2256 rows × 13 columns</p>\n",
       "</div>"
      ],
      "text/plain": [
       "                        Name Country  Gender Division     Swim     Bike  \\\n",
       "0               Frodeno, Jan     DEU    Male     MPRO 00:47:31 04:16:02   \n",
       "1             O'donnell, Tim     USA    Male     MPRO 00:47:38 04:18:11   \n",
       "2          Kienle, Sebastian     DEU    Male     MPRO 00:52:17 04:15:04   \n",
       "3               Hoffman, Ben     USA    Male     MPRO 00:51:01 04:24:01   \n",
       "4              Wurf, Cameron     AUS    Male     MPRO 00:52:25 04:14:44   \n",
       "...                      ...     ...     ...      ...      ...      ...   \n",
       "2253          Beavers, Cathy     USA  Female   F65-69 01:45:30 08:25:01   \n",
       "2254        Whitehouse, Paul     USA    Male   M70-74 02:06:01 07:51:20   \n",
       "2255  Svoboda-vasquez, Hanna     DEU  Female   F50-54 01:29:33 08:16:27   \n",
       "2256     Piasentini, Edgardo     ARG    Male   M65-69 01:42:27 07:42:09   \n",
       "2257            Yotov, Kamen     BGR    Male   M40-44 01:32:30 07:57:24   \n",
       "\n",
       "          Run  Overall  Division Rank Gender Rank Overall Rank       T1  \\\n",
       "0    02:42:43 07:51:13              1           1            1 00:01:58   \n",
       "1    02:49:45 07:59:41              2           2            2 00:02:01   \n",
       "2    02:49:56 08:02:04              3           3            3 00:02:12   \n",
       "3    02:43:08 08:02:52              4           4            4 00:02:25   \n",
       "4    02:55:03 08:06:41              5           5            5 00:02:07   \n",
       "...       ...      ...            ...         ...          ...      ...   \n",
       "2253 06:18:52 16:50:03             26         609         2262 00:10:25   \n",
       "2254 06:29:34 16:50:04             28        1654         2263 00:11:49   \n",
       "2255 06:47:42 16:51:03             66         610         2264 00:09:47   \n",
       "2256 07:13:49 16:53:21             50        1655         2265 00:06:17   \n",
       "2257 07:03:42 16:57:09            274        1656         2266 00:13:25   \n",
       "\n",
       "           T2  \n",
       "0    00:02:59  \n",
       "1    00:02:06  \n",
       "2    00:02:35  \n",
       "3    00:02:17  \n",
       "4    00:02:22  \n",
       "...       ...  \n",
       "2253 00:10:15  \n",
       "2254 00:11:20  \n",
       "2255 00:07:34  \n",
       "2256 00:08:39  \n",
       "2257 00:10:08  \n",
       "\n",
       "[2256 rows x 13 columns]"
      ]
     },
     "execution_count": 8,
     "metadata": {},
     "output_type": "execute_result"
    }
   ],
   "source": [
    "# Convert DNS & DNF to 0\n",
    "df.loc[df['Division Rank'] == 'DNS', 'Division Rank'] = 0\n",
    "df.loc[df['Division Rank'] == 'DNF', 'Division Rank'] = 0\n",
    "df.loc[df['Division Rank'] == 'DQ', 'Division Rank'] = 0\n",
    "df['Division Rank'] = df['Division Rank'].astype(int)\n",
    "\n",
    "df"
   ]
  },
  {
   "cell_type": "code",
   "execution_count": 9,
   "metadata": {},
   "outputs": [
    {
     "data": {
      "text/plain": [
       "\"\\nmale_F18 = male_results[male_results['Division'] == 'M18-24']\\nmale_F25 = male_results[male_results['Division'] == 'M25-29']\\nmale_F30 = male_results[male_results['Division'] == 'M30-34']\\nmale_F35 = male_results[male_results['Division'] == 'M35-39']\\nmale_F40 = male_results[male_results['Division'] == 'M40-44']\\nmale_F45 = male_results[male_results['Division'] == 'M45-49']\\nmale_F50 = male_results[male_results['Division'] == 'M50-54']\\nmale_F55 = male_results[male_results['Division'] == 'M55-59']\\nmale_F60 = male_results[male_results['Division'] == 'M60-64']\\nmale_F65 = male_results[male_results['Division'] == 'M66-69']\\nmale_F70 = male_results[male_results['Division'] == 'M70-74']\\nmale_F75 = male_results[male_results['Division'] == 'M75-79']\\nmale_F80 = male_results[male_results['Division'] == 'M80-84']\""
      ]
     },
     "execution_count": 9,
     "metadata": {},
     "output_type": "execute_result"
    }
   ],
   "source": [
    "male_results = df[df['Gender'] == 'Male']\n",
    "male_pro = male_results[male_results['Division'] == 'MPRO']\n",
    "male_agegroups = male_results[male_results['Division'] != 'MPRO']\n",
    "'''\n",
    "male_F18 = male_results[male_results['Division'] == 'M18-24']\n",
    "male_F25 = male_results[male_results['Division'] == 'M25-29']\n",
    "male_F30 = male_results[male_results['Division'] == 'M30-34']\n",
    "male_F35 = male_results[male_results['Division'] == 'M35-39']\n",
    "male_F40 = male_results[male_results['Division'] == 'M40-44']\n",
    "male_F45 = male_results[male_results['Division'] == 'M45-49']\n",
    "male_F50 = male_results[male_results['Division'] == 'M50-54']\n",
    "male_F55 = male_results[male_results['Division'] == 'M55-59']\n",
    "male_F60 = male_results[male_results['Division'] == 'M60-64']\n",
    "male_F65 = male_results[male_results['Division'] == 'M66-69']\n",
    "male_F70 = male_results[male_results['Division'] == 'M70-74']\n",
    "male_F75 = male_results[male_results['Division'] == 'M75-79']\n",
    "male_F80 = male_results[male_results['Division'] == 'M80-84']'''"
   ]
  },
  {
   "cell_type": "code",
   "execution_count": 10,
   "metadata": {},
   "outputs": [
    {
     "data": {
      "text/plain": [
       "\"\\nfem_F18 = fem_results[fem_results['Division'] == 'F18-24']\\nfem_F25 = fem_results[fem_results['Division'] == 'F25-29']\\nfem_F30 = fem_results[fem_results['Division'] == 'F30-34']\\nfem_F35 = fem_results[fem_results['Division'] == 'F35-39']\\nfem_F40 = fem_results[fem_results['Division'] == 'F40-44']\\nfem_F45 = fem_results[fem_results['Division'] == 'F45-49']\\nfem_F50 = fem_results[fem_results['Division'] == 'F50-54']\\nfem_F55 = fem_results[fem_results['Division'] == 'F55-59']\\nfem_F60 = fem_results[fem_results['Division'] == 'F60-64']\\nfem_F65 = fem_results[fem_results['Division'] == 'F66-69']\\nfem_F70 = fem_results[fem_results['Division'] == 'F70-74']\""
      ]
     },
     "execution_count": 10,
     "metadata": {},
     "output_type": "execute_result"
    }
   ],
   "source": [
    "fem_results = df[df['Gender'] == 'Female']\n",
    "fem_pro = fem_results[fem_results['Division'] == 'FPRO']\n",
    "fem_agegroups = fem_results[fem_results['Division'] != 'FPRO']\n",
    "'''\n",
    "fem_F18 = fem_results[fem_results['Division'] == 'F18-24']\n",
    "fem_F25 = fem_results[fem_results['Division'] == 'F25-29']\n",
    "fem_F30 = fem_results[fem_results['Division'] == 'F30-34']\n",
    "fem_F35 = fem_results[fem_results['Division'] == 'F35-39']\n",
    "fem_F40 = fem_results[fem_results['Division'] == 'F40-44']\n",
    "fem_F45 = fem_results[fem_results['Division'] == 'F45-49']\n",
    "fem_F50 = fem_results[fem_results['Division'] == 'F50-54']\n",
    "fem_F55 = fem_results[fem_results['Division'] == 'F55-59']\n",
    "fem_F60 = fem_results[fem_results['Division'] == 'F60-64']\n",
    "fem_F65 = fem_results[fem_results['Division'] == 'F66-69']\n",
    "fem_F70 = fem_results[fem_results['Division'] == 'F70-74']'''"
   ]
  },
  {
   "cell_type": "code",
   "execution_count": 11,
   "metadata": {},
   "outputs": [
    {
     "data": {
      "text/plain": [
       "<matplotlib.lines.Line2D at 0x7f21e1045f40>"
      ]
     },
     "execution_count": 11,
     "metadata": {},
     "output_type": "execute_result"
    },
    {
     "data": {
      "image/png": "[encoded data removed]",
      "text/plain": [
       "<Figure size 720x432 with 1 Axes>"
      ]
     },
     "metadata": {
      "needs_background": "light"
     },
     "output_type": "display_data"
    }
   ],
   "source": [
    "xf = fem_pro['Division Rank']\n",
    "yf = fem_pro['Swim'].apply(lambda x: x.total_seconds())\n",
    "xm = male_pro['Division Rank']\n",
    "ym = male_pro['Swim'].apply(lambda x: x.total_seconds())\n",
    "\n",
    "fig, ax = plt.subplots(figsize=(10,6))\n",
    "ax.scatter(xf, yf, c='pink')\n",
    "ax.scatter(xm, ym)\n",
    "\n",
    "ax.set_title('Pro Swim Times by Ranking')\n",
    "ax.set_xlabel('Rank')\n",
    "ax.set_ylabel('Swim Time (seconds)')\n",
    "\n",
    "ax.axvline(1, c='pink', linestyle=\"--\")\n",
    "ax.axvline(xf.max(), c='pink', linestyle=\"--\")\n",
    "ax.axvline(1, c='grey', linestyle=\"--\")\n",
    "ax.axvline(xm.max(), c='grey', linestyle=\"--\")"
   ]
  },
  {
   "cell_type": "code",
   "execution_count": 12,
   "metadata": {},
   "outputs": [
    {
     "data": {
      "text/plain": [
       "<matplotlib.lines.Line2D at 0x7f21e07d0850>"
      ]
     },
     "execution_count": 12,
     "metadata": {},
     "output_type": "execute_result"
    },
    {
     "data": {
      "image/png": "[encoded data removed]",
      "text/plain": [
       "<Figure size 720x432 with 1 Axes>"
      ]
     },
     "metadata": {
      "needs_background": "light"
     },
     "output_type": "display_data"
    }
   ],
   "source": [
    "xf = fem_pro['Division Rank']\n",
    "yf = fem_pro['Bike'].apply(lambda x: x.total_seconds())\n",
    "xm = male_pro['Division Rank']\n",
    "ym = male_pro['Bike'].apply(lambda x: x.total_seconds())\n",
    "\n",
    "fig, ax = plt.subplots(figsize=(10,6))\n",
    "ax.scatter(xf, yf, c='pink')\n",
    "ax.scatter(xm, ym)\n",
    "\n",
    "ax.set_title('Pro Bike Times by Ranking')\n",
    "ax.set_xlabel('Rank')\n",
    "ax.set_ylabel('Bike Time (seconds)')\n",
    "\n",
    "ax.axvline(1, c='pink', linestyle=\"--\")\n",
    "ax.axvline(xf.max(), c='pink', linestyle=\"--\")\n",
    "ax.axvline(1, c='grey', linestyle=\"--\")\n",
    "ax.axvline(xm.max(), c='grey', linestyle=\"--\")"
   ]
  },
  {
   "cell_type": "code",
   "execution_count": 13,
   "metadata": {},
   "outputs": [
    {
     "data": {
      "text/plain": [
       "<matplotlib.lines.Line2D at 0x7f21e0791850>"
      ]
     },
     "execution_count": 13,
     "metadata": {},
     "output_type": "execute_result"
    },
    {
     "data": {
      "image/png": "[encoded data removed]",
      "text/plain": [
       "<Figure size 720x432 with 1 Axes>"
      ]
     },
     "metadata": {
      "needs_background": "light"
     },
     "output_type": "display_data"
    }
   ],
   "source": [
    "xf = fem_pro['Division Rank']\n",
    "yf = fem_pro['Run'].apply(lambda x: x.total_seconds())\n",
    "xm = male_pro['Division Rank']\n",
    "ym = male_pro['Run'].apply(lambda x: x.total_seconds())\n",
    "\n",
    "fig, ax = plt.subplots(figsize=(10,6))\n",
    "ax.scatter(xf, yf, c='pink')\n",
    "ax.scatter(xm, ym)\n",
    "\n",
    "ax.set_title('Pro Run Times by Ranking')\n",
    "ax.set_xlabel('Rank')\n",
    "ax.set_ylabel('Run Time (seconds)')\n",
    "\n",
    "ax.axvline(1, c='pink', linestyle=\"--\")\n",
    "ax.axvline(xf.max(), c='pink', linestyle=\"--\")\n",
    "ax.axvline(1, c='grey', linestyle=\"--\")\n",
    "ax.axvline(xm.max(), c='grey', linestyle=\"--\")"
   ]
  },
  {
   "cell_type": "code",
   "execution_count": 14,
   "metadata": {},
   "outputs": [
    {
     "data": {
      "text/plain": [
       "<matplotlib.lines.Line2D at 0x7f21e0754610>"
      ]
     },
     "execution_count": 14,
     "metadata": {},
     "output_type": "execute_result"
    },
    {
     "data": {
      "image/png": "[encoded data removed]",
      "text/plain": [
       "<Figure size 720x432 with 1 Axes>"
      ]
     },
     "metadata": {
      "needs_background": "light"
     },
     "output_type": "display_data"
    }
   ],
   "source": [
    "xf = fem_pro['Division Rank']\n",
    "yf = fem_pro['Overall'].apply(lambda x: x.total_seconds())\n",
    "xm = male_pro['Division Rank']\n",
    "ym = male_pro['Overall'].apply(lambda x: x.total_seconds())\n",
    "\n",
    "fig, ax = plt.subplots(figsize=(10,6))\n",
    "ax.scatter(xf, yf, c='pink')\n",
    "ax.scatter(xm, ym)\n",
    "\n",
    "ax.set_title('Pro Overall Times by Ranking')\n",
    "ax.set_xlabel('Rank')\n",
    "ax.set_ylabel('Overall Time (seconds)')\n",
    "\n",
    "ax.axvline(1, c='pink', linestyle=\"--\")\n",
    "ax.axvline(xf.max(), c='pink', linestyle=\"--\")\n",
    "ax.axvline(1, c='grey', linestyle=\"--\")\n",
    "ax.axvline(xm.max(), c='grey', linestyle=\"--\")"
   ]
  },
  {
   "cell_type": "markdown",
   "metadata": {},
   "source": [
    "## Big Q: what effects do fast Swim, Bike, or Run times have on Overall Ranking?"
   ]
  },
  {
   "cell_type": "code",
   "execution_count": 15,
   "metadata": {},
   "outputs": [],
   "source": [
    "import seaborn as sns"
   ]
  },
  {
   "cell_type": "code",
   "execution_count": 16,
   "metadata": {},
   "outputs": [
    {
     "data": {
      "text/plain": [
       "0       0\n",
       "1       0\n",
       "2       0\n",
       "3       0\n",
       "4       0\n",
       "       ..\n",
       "2253    1\n",
       "2254    0\n",
       "2255    1\n",
       "2256    0\n",
       "2257    0\n",
       "Name: Bool_Gender, Length: 2256, dtype: int64"
      ]
     },
     "execution_count": 16,
     "metadata": {},
     "output_type": "execute_result"
    }
   ],
   "source": [
    "df['Bool_Gender'] = df['Gender'] == \"Female\"\n",
    "df['Bool_Gender'].astype(int)"
   ]
  },
  {
   "cell_type": "code",
   "execution_count": 17,
   "metadata": {},
   "outputs": [],
   "source": [
    "heatmap_cols = ['Swim', 'Bike', 'Run', 'Overall', 'Bool_Gender', 'Division Rank']\n",
    "\n",
    "def timedeltToSec(df, col):\n",
    "    return df[col].apply(lambda x: x.total_seconds())"
   ]
  },
  {
   "cell_type": "code",
   "execution_count": 18,
   "metadata": {},
   "outputs": [],
   "source": [
    "df['Swim'] = timedeltToSec(df, 'Swim')\n",
    "df['Bike'] = timedeltToSec(df, 'Bike')\n",
    "df['Run'] = timedeltToSec(df, 'Run')\n",
    "df['Overall'] = timedeltToSec(df, 'Overall')"
   ]
  },
  {
   "cell_type": "code",
   "execution_count": 19,
   "metadata": {},
   "outputs": [],
   "source": [
    "heat_df = df[heatmap_cols]"
   ]
  },
  {
   "cell_type": "code",
   "execution_count": 20,
   "metadata": {},
   "outputs": [
    {
     "data": {
      "text/plain": [
       "<matplotlib.axes._subplots.AxesSubplot at 0x7f21d8676e80>"
      ]
     },
     "execution_count": 20,
     "metadata": {},
     "output_type": "execute_result"
    },
    {
     "data": {
      "image/png": "[encoded data removed]",
      "text/plain": [
       "<Figure size 432x288 with 2 Axes>"
      ]
     },
     "metadata": {
      "needs_background": "light"
     },
     "output_type": "display_data"
    }
   ],
   "source": [
    "sns.heatmap(heat_df.corr(), annot = True, fmt='.1g', square=True)"
   ]
  },
  {
   "cell_type": "markdown",
   "metadata": {},
   "source": [
    "Based on the correlation map, we can see that all three sports: Swim, Bike, & Run have high correlations with the Overall Time but Swim is slightly less correlated than the other two sports. Run has the greatest correlation of the three sports on how athletes rank in their division. \n",
    "\n",
    "I'd like to take a look at just the pros."
   ]
  },
  {
   "cell_type": "code",
   "execution_count": 304,
   "metadata": {},
   "outputs": [
    {
     "name": "stderr",
     "output_type": "stream",
     "text": [
      "<ipython-input-304-d15dfb87c2b1>:3: SettingWithCopyWarning: \n",
      "A value is trying to be set on a copy of a slice from a DataFrame.\n",
      "Try using .loc[row_indexer,col_indexer] = value instead\n",
      "\n",
      "See the caveats in the documentation: https://pandas.pydata.org/pandas-docs/stable/user_guide/indexing.html#returning-a-view-versus-a-copy\n",
      "  heat_pros['Bool_Gender'] = (df['Division'] == \"FPRO\")\n"
     ]
    },
    {
     "data": {
      "text/plain": [
       "<matplotlib.axes._subplots.AxesSubplot at 0x7f21d1debfd0>"
      ]
     },
     "execution_count": 304,
     "metadata": {},
     "output_type": "execute_result"
    },
    {
     "data": {
      "image/png": "[encoded data removed]",
      "text/plain": [
       "<Figure size 432x288 with 2 Axes>"
      ]
     },
     "metadata": {
      "needs_background": "light"
     },
     "output_type": "display_data"
    }
   ],
   "source": [
    "pro_mask = (df['Division'] == 'MPRO') | (df['Division'] == 'FPRO')\n",
    "heat_pros = df[pro_mask]\n",
    "heat_pros['Bool_Gender'] = (df['Division'] == \"FPRO\")\n",
    "heat_pros['Bool_Gender'].astype(int)\n",
    "plot = heat_pros[heatmap_cols]\n",
    "sns.heatmap(plot.corr(), annot = True, fmt='.1g', square=True)"
   ]
  },
  {
   "cell_type": "markdown",
   "metadata": {},
   "source": [
    "Swim has a much lower correlation in the pro division where Bike and Run times are highly correlated with Overall finish times. I think this has to do with the total distance of the event, 226.31km, and how that's divided amongst the three sports. Swim accounts for 1.7% of the entire race, Bike 79.6%, and Run is 18.7%. Meaning Bike and Run times dominate the Overall time.\n",
    "\n",
    "Some questions that come up from this heatmap:\n",
    "\n",
    "Why Run has the greatest correlation (0.6) of the three sports with Division Rank?\n",
    "\n",
    "What relationship does Gender have with the sports?"
   ]
  },
  {
   "cell_type": "markdown",
   "metadata": {},
   "source": [
    "Assume that pro triathletes competing in Kona are i.i.d. samples of all possible pro triathletes. Computing statistics of this random sample: the sample mean. Since n > 30, Law of Large Numbers is valid and we can assume the distribution of sample means will be approximately normally distributed.\n",
    "\n",
    "I would like to use the Maximum Likelihood Estimation to find the variance of each sample: Swim, Bike, and Run given the sample means generated by their data.\n",
    "\n",
    "Steps:\n",
    "1. Clean data further: Booleans for Gender\n",
    "2. Isolate np.arrays of each category\n",
    "3. Scatterplot each!\n",
    "4. Calculate means for each category\n",
    "5. Randomly sample from arrays of each category to generate np.arrays of means\n",
    "\n",
    "Hyp Test: Does a slow or fast Swim time lead to a better Division Rank?\n",
    "\n",
    "# Hyp Test: How fast a Swim, Bike, or Run time qualifies you as pro?\n",
    "\n",
    "Here we are assuming all three sports are i.i.d. although that may not necessarily be true in real life where an exhausting Swim could lead to slower Bike and Run times, or a particularly strong biker is a weak runner."
   ]
  },
  {
   "cell_type": "code",
   "execution_count": 199,
   "metadata": {},
   "outputs": [
    {
     "name": "stdout",
     "output_type": "stream",
     "text": [
      "Randomly draw, with replacement to produce many random samplings of size 2256 from Swim\n",
      "Sample mean (in minutes): 72.25, standard deviation (minutes): 13.14, and variance (min): 10354.7\n"
     ]
    }
   ],
   "source": [
    "swim = df['Swim']\n",
    "print(f'Randomly draw, with replacement to produce many random samplings of size {len(swim)} from Swim')\n",
    "print(f'Sample mean (in minutes): {round(swim.mean()/60, 2)}, standard deviation (minutes): {round(swim.std()/60, 2)}, and variance (min): {round(swim.var()/60, 2)}')"
   ]
  },
  {
   "cell_type": "markdown",
   "metadata": {},
   "source": [
    "Notes to self:\n",
    "    \n",
    "Need 95% Confidence Interval for Pro Medians <- where median is, not a range of pro times\n",
    "\n",
    "Lower 90th percentile - looking for lowest 10% in all samples \n",
    "\n",
    "i.e. if you race x or faster => pro ; bootstrap on bottom 10% of race times => 95% confidence interval on 10%\n",
    "\n",
    "1. 90% percentile (isntead of median 50%) - might need to flip to 10%\n",
    "2. Bootstrap - find 95% confidence interval\n",
    "    yield high & low times for bottom 10% of pros\n",
    "3. Compare to Division Ranks - if you do better than low 10%, you'll be amongst the pros!"
   ]
  },
  {
   "cell_type": "code",
   "execution_count": 174,
   "metadata": {},
   "outputs": [],
   "source": [
    "def times(df, sport):\n",
    "    '''\n",
    "    Returns an array of randomly chosen times according to the sport specified.\n",
    "    \n",
    "    Parameters:\n",
    "    df: dataFrame pulling from\n",
    "    sport: string: 'Swim', 'Bike', 'Run', or 'Overall'\n",
    "    \n",
    "    Returns:\n",
    "    np.array of length 2434, with time entries in seconds\n",
    "    '''\n",
    "    l = df[sport]\n",
    "    return np.random.choice(df[sport], size=len(l), replace=True)"
   ]
  },
  {
   "cell_type": "code",
   "execution_count": 207,
   "metadata": {},
   "outputs": [],
   "source": [
    "def bootstrap_statistic(df, sport, samples, statistic):\n",
    "    '''\n",
    "    Returns an array of bootstrapped statistics\n",
    "    \n",
    "    Parameters:\n",
    "    df: dataFrame pulling from\n",
    "    sport: string: 'Swim', 'Bike', 'Run', or 'Overall'\n",
    "    samples: int: # of samples desired\n",
    "    statistic: string: statistic to calculate on sample i.e. np.median, np.var, np.std\n",
    "    '''\n",
    "    statistics = []\n",
    "    for i in range(samples):\n",
    "            samp = times(df, sport)\n",
    "            statistics.append(statistic(samp))\n",
    "    return statistics"
   ]
  },
  {
   "cell_type": "code",
   "execution_count": 211,
   "metadata": {},
   "outputs": [],
   "source": [
    "def bootstrap_percentile(df, sport, samples, percent, statistic=np.percentile):\n",
    "    statistics = []\n",
    "    for i in range(samples):\n",
    "        samp = times(df, sport)\n",
    "        statistics.append(statistic(samp, percent))\n",
    "    return statistics"
   ]
  },
  {
   "cell_type": "code",
   "execution_count": 219,
   "metadata": {},
   "outputs": [],
   "source": [
    "bootstrap_swim = bootstrap_statistic(df, 'Swim', 10000, np.median)\n",
    "bootstrap_bike = bootstrap_statistic(df, 'Bike', 10000, np.median)\n",
    "bootstrap_run = bootstrap_statistic(df, 'Run', 10000, np.median)"
   ]
  },
  {
   "cell_type": "code",
   "execution_count": 300,
   "metadata": {},
   "outputs": [
    {
     "data": {
      "image/png": "[encoded data removed]",
      "text/plain": [
       "<Figure size 864x504 with 3 Axes>"
      ]
     },
     "metadata": {
      "needs_background": "light"
     },
     "output_type": "display_data"
    }
   ],
   "source": [
    "fig, ax = plt.subplots(3, 1, figsize=(12,7))\n",
    "\n",
    "ax[0].hist(bootstrap_swim, bins=25, density=True, color='blue', alpha=0.75, label='Bootstrap Sample Swim Time Medians')\n",
    "ax[0].hist(times(df, 'Swim'), bins=25, density=True, color=\"blue\", alpha=0.4, label=\"Sample Swims\")\n",
    "ax[0].set_xbound(3750,5250)\n",
    "ax[0].set_xlabel('Swim in Seconds', fontsize=15)\n",
    "\n",
    "ax[1].hist(bootstrap_bike, bins=25, density=True, color='yellow', alpha=0.75, label='Bootstrap Sample Bike Time Medians')\n",
    "ax[1].hist(times(df, 'Bike'), bins=25, density=True, color=\"yellow\", alpha=0.4, label=\"Sample Swims\")\n",
    "ax[1].set_xbound(18000, 24000)\n",
    "ax[1].set_xlabel('Bike in Seconds', fontsize=15)\n",
    "\n",
    "ax[2].hist(bootstrap_run, bins=25, density=True, color='red', alpha=0.75, label='Bootstrap Sample Run Time Medians')\n",
    "ax[2].hist(times(df, 'Run'), bins=25, density=True, color=\"red\", alpha=0.4, label=\"Sample Runs\")\n",
    "ax[2].set_xbound(11000, 19000)\n",
    "ax[2].set_xlabel('Run in Seconds', fontsize=15)\n",
    "\n",
    "plt.tight_layout()"
   ]
  },
  {
   "cell_type": "code",
   "execution_count": 225,
   "metadata": {},
   "outputs": [
    {
     "data": {
      "text/plain": [
       "<matplotlib.legend.Legend at 0x7f21d3b901c0>"
      ]
     },
     "execution_count": 225,
     "metadata": {},
     "output_type": "execute_result"
    },
    {
     "data": {
      "image/png": "[encoded data removed]",
      "text/plain": [
       "<Figure size 1440x360 with 1 Axes>"
      ]
     },
     "metadata": {
      "needs_background": "light"
     },
     "output_type": "display_data"
    }
   ],
   "source": [
    "fig,ax = plt.subplots(1, figsize=(20,5))\n",
    "\n",
    "ax.hist(bootstrap_swim, bins=25, density=True, color='blue', alpha = 0.75, label='Bootstrap Sample Swim Time Medians')\n",
    "ax.hist(times(df, 'Swim'), bins=25, density=True, color=\"blue\", alpha=0.4, label=\"Sample Swims\")\n",
    "\n",
    "ax.hist(bootstrap_bike, bins=25, density=True, color='yellow', label='Bootstrap Sample Bike Time Medians')\n",
    "ax.hist(times(df, 'Bike'), bins=25, density=True, color=\"yellow\", alpha=0.4, label=\"Sample Swims\")\n",
    "\n",
    "ax.hist(bootstrap_run, bins=25, density=True, color='red', label='Bootstrap Sample Run Time Medians')\n",
    "ax.hist(times(df, 'Run'), bins=25, density=True, color=\"red\", alpha=0.4, label=\"Sample Runs\")\n",
    "\n",
    "ax.set_title(\"Bootstrap Sample Medians (10,000 samples)\", fontsize = 20)\n",
    "ax.set_xlabel('Time in Seconds', fontsize=15)\n",
    "ax.set_xbound(0, 24000)\n",
    "ax.set_ybound(0, .027)\n",
    "ax.legend()"
   ]
  },
  {
   "cell_type": "markdown",
   "metadata": {},
   "source": [
    "# To test for how fast a Swim, Bike, or Run time qualifies you as a \"pro\", I will bootstrap from the pros only.\n",
    "\n",
    "Then I will test fast Division times against a p-value generated from the pro's medians.\n",
    "\n",
    "First, Female Pros:"
   ]
  },
  {
   "cell_type": "code",
   "execution_count": 108,
   "metadata": {},
   "outputs": [
    {
     "data": {
      "text/html": [
       "<div>\n",
       "<style scoped>\n",
       "    .dataframe tbody tr th:only-of-type {\n",
       "        vertical-align: middle;\n",
       "    }\n",
       "\n",
       "    .dataframe tbody tr th {\n",
       "        vertical-align: top;\n",
       "    }\n",
       "\n",
       "    .dataframe thead th {\n",
       "        text-align: right;\n",
       "    }\n",
       "</style>\n",
       "<table border=\"1\" class=\"dataframe\">\n",
       "  <thead>\n",
       "    <tr style=\"text-align: right;\">\n",
       "      <th></th>\n",
       "      <th>Swim</th>\n",
       "      <th>Bike</th>\n",
       "      <th>Run</th>\n",
       "      <th>Overall</th>\n",
       "      <th>Division Rank</th>\n",
       "      <th>T1</th>\n",
       "      <th>T2</th>\n",
       "    </tr>\n",
       "  </thead>\n",
       "  <tbody>\n",
       "    <tr>\n",
       "      <th>count</th>\n",
       "      <td>35.000000</td>\n",
       "      <td>35.000000</td>\n",
       "      <td>35.000000</td>\n",
       "      <td>35.000000</td>\n",
       "      <td>35.000000</td>\n",
       "      <td>35</td>\n",
       "      <td>35</td>\n",
       "    </tr>\n",
       "    <tr>\n",
       "      <th>mean</th>\n",
       "      <td>3644.857143</td>\n",
       "      <td>18177.628571</td>\n",
       "      <td>12310.828571</td>\n",
       "      <td>34468.142857</td>\n",
       "      <td>18.000000</td>\n",
       "      <td>0 days 00:02:27.628571</td>\n",
       "      <td>0 days 00:03:07.200000</td>\n",
       "    </tr>\n",
       "    <tr>\n",
       "      <th>std</th>\n",
       "      <td>617.123552</td>\n",
       "      <td>815.454514</td>\n",
       "      <td>1809.676758</td>\n",
       "      <td>2711.442932</td>\n",
       "      <td>10.246951</td>\n",
       "      <td>0 days 00:00:33.468234</td>\n",
       "      <td>0 days 00:00:49.487253</td>\n",
       "    </tr>\n",
       "    <tr>\n",
       "      <th>min</th>\n",
       "      <td>2942.000000</td>\n",
       "      <td>17104.000000</td>\n",
       "      <td>10267.000000</td>\n",
       "      <td>31210.000000</td>\n",
       "      <td>1.000000</td>\n",
       "      <td>0 days 00:02:02</td>\n",
       "      <td>0 days 00:02:13</td>\n",
       "    </tr>\n",
       "    <tr>\n",
       "      <th>25%</th>\n",
       "      <td>3260.500000</td>\n",
       "      <td>17554.000000</td>\n",
       "      <td>11102.000000</td>\n",
       "      <td>32928.000000</td>\n",
       "      <td>9.500000</td>\n",
       "      <td>0 days 00:02:12</td>\n",
       "      <td>0 days 00:02:35</td>\n",
       "    </tr>\n",
       "    <tr>\n",
       "      <th>50%</th>\n",
       "      <td>3546.000000</td>\n",
       "      <td>18047.000000</td>\n",
       "      <td>12036.000000</td>\n",
       "      <td>33963.000000</td>\n",
       "      <td>18.000000</td>\n",
       "      <td>0 days 00:02:22</td>\n",
       "      <td>0 days 00:02:56</td>\n",
       "    </tr>\n",
       "    <tr>\n",
       "      <th>75%</th>\n",
       "      <td>3765.000000</td>\n",
       "      <td>18523.500000</td>\n",
       "      <td>12668.000000</td>\n",
       "      <td>35123.000000</td>\n",
       "      <td>26.500000</td>\n",
       "      <td>0 days 00:02:28</td>\n",
       "      <td>0 days 00:03:15.500000</td>\n",
       "    </tr>\n",
       "    <tr>\n",
       "      <th>max</th>\n",
       "      <td>6662.000000</td>\n",
       "      <td>20356.000000</td>\n",
       "      <td>18216.000000</td>\n",
       "      <td>42765.000000</td>\n",
       "      <td>35.000000</td>\n",
       "      <td>0 days 00:05:24</td>\n",
       "      <td>0 days 00:05:50</td>\n",
       "    </tr>\n",
       "  </tbody>\n",
       "</table>\n",
       "</div>"
      ],
      "text/plain": [
       "              Swim          Bike           Run       Overall  Division Rank  \\\n",
       "count    35.000000     35.000000     35.000000     35.000000      35.000000   \n",
       "mean   3644.857143  18177.628571  12310.828571  34468.142857      18.000000   \n",
       "std     617.123552    815.454514   1809.676758   2711.442932      10.246951   \n",
       "min    2942.000000  17104.000000  10267.000000  31210.000000       1.000000   \n",
       "25%    3260.500000  17554.000000  11102.000000  32928.000000       9.500000   \n",
       "50%    3546.000000  18047.000000  12036.000000  33963.000000      18.000000   \n",
       "75%    3765.000000  18523.500000  12668.000000  35123.000000      26.500000   \n",
       "max    6662.000000  20356.000000  18216.000000  42765.000000      35.000000   \n",
       "\n",
       "                           T1                      T2  \n",
       "count                      35                      35  \n",
       "mean   0 days 00:02:27.628571  0 days 00:03:07.200000  \n",
       "std    0 days 00:00:33.468234  0 days 00:00:49.487253  \n",
       "min           0 days 00:02:02         0 days 00:02:13  \n",
       "25%           0 days 00:02:12         0 days 00:02:35  \n",
       "50%           0 days 00:02:22         0 days 00:02:56  \n",
       "75%           0 days 00:02:28  0 days 00:03:15.500000  \n",
       "max           0 days 00:05:24         0 days 00:05:50  "
      ]
     },
     "execution_count": 108,
     "metadata": {},
     "output_type": "execute_result"
    }
   ],
   "source": [
    "fem_pro = df[df['Division'] == 'FPRO']\n",
    "fem_pro.describe()"
   ]
  },
  {
   "cell_type": "code",
   "execution_count": 231,
   "metadata": {},
   "outputs": [],
   "source": [
    "bootstrap_fpro_swim = bootstrap_statistic(fem_pro, 'Swim', 1000, np.median)"
   ]
  },
  {
   "cell_type": "code",
   "execution_count": 232,
   "metadata": {},
   "outputs": [
    {
     "data": {
      "text/plain": [
       "<matplotlib.legend.Legend at 0x7f21d4bb64f0>"
      ]
     },
     "execution_count": 232,
     "metadata": {},
     "output_type": "execute_result"
    },
    {
     "data": {
      "image/png": "[encoded data removed]",
      "text/plain": [
       "<Figure size 864x504 with 1 Axes>"
      ]
     },
     "metadata": {
      "needs_background": "light"
     },
     "output_type": "display_data"
    }
   ],
   "source": [
    "fig, ax = plt.subplots(1, figsize=(12,7))\n",
    "\n",
    "ax.hist(bootstrap_fpro_swim, bins=25, density=True, color='pink', alpha=0.75, label='Sample Swim Time Medians')\n",
    "ax.hist(times(fem_pro, 'Swim'), bins=25, density=True, color=\"pink\", alpha=0.4, label=\"Sample Swims\")\n",
    "ax.set_title('Bootstrap Sample FPRO Swim Medians (1,000 Samples)', fontsize=20)\n",
    "ax.set_xbound(2500, 4700)\n",
    "ax.set_xlabel('Swim in Seconds', fontsize=15)\n",
    "ax.legend()"
   ]
  },
  {
   "cell_type": "code",
   "execution_count": 233,
   "metadata": {},
   "outputs": [
    {
     "name": "stdout",
     "output_type": "stream",
     "text": [
      "Standard Deviation of Sample (minutes): 13.1 and standard deviation of sample medians (minutes): 0.41\n"
     ]
    }
   ],
   "source": [
    "std_samp = np.std(times(fem_pro, 'Swim'))\n",
    "std_b_medians = np.std(bootstrap_fpro_swim)\n",
    "print(f'Standard Deviation of Sample (minutes): {round(std_samp/60, 2)} and standard deviation of sample medians (minutes): {round(std_b_medians/60,2)}')\n"
   ]
  },
  {
   "cell_type": "code",
   "execution_count": 213,
   "metadata": {},
   "outputs": [],
   "source": [
    "fem_pro_p = bootstrap_percentile(fem_pro, 'Swim', 1000, 75)"
   ]
  },
  {
   "cell_type": "code",
   "execution_count": 218,
   "metadata": {},
   "outputs": [
    {
     "name": "stdout",
     "output_type": "stream",
     "text": [
      "Bootstrap Confidence Interval for Population 75th Percentile (minutes): [59.18, 64.63]\n"
     ]
    }
   ],
   "source": [
    "left = np.percentile(fem_pro_p, 2.5)\n",
    "right = np.percentile(fem_pro_p, 97.5)\n",
    "print(f'Bootstrap Confidence Interval for Population 75th Percentile (minutes): [{round(left/60, 2)}, {round(right/60,2)}]')"
   ]
  },
  {
   "cell_type": "code",
   "execution_count": 297,
   "metadata": {},
   "outputs": [
    {
     "data": {
      "text/plain": [
       "Text(0.5, 0, 'Swim in Seconds')"
      ]
     },
     "execution_count": 297,
     "metadata": {},
     "output_type": "execute_result"
    },
    {
     "data": {
      "image/png": "[encoded data removed]",
      "text/plain": [
       "<Figure size 864x288 with 1 Axes>"
      ]
     },
     "metadata": {
      "needs_background": "light"
     },
     "output_type": "display_data"
    }
   ],
   "source": [
    "fig, ax = plt.subplots(1, figsize=(12,4))\n",
    "\n",
    "ax.hist(fem_pro_p, bins=50, density=True, color='r', alpha=0.6)\n",
    "ax.set_title('Bootstrap Sample FPRO Swim 75 Percentiles', fontsize=20)\n",
    "ax.set_xlabel('Swim in Seconds', fontsize=15)"
   ]
  },
  {
   "cell_type": "code",
   "execution_count": 239,
   "metadata": {},
   "outputs": [],
   "source": [
    "male_pro = df[df['Division'] == 'MPRO']\n",
    "bootstrap_mpro_swim = bootstrap_statistic(male_pro, 'Swim', 1000, np.median)"
   ]
  },
  {
   "cell_type": "code",
   "execution_count": 240,
   "metadata": {},
   "outputs": [
    {
     "data": {
      "text/plain": [
       "Text(0.5, 0, 'Swim in Seconds')"
      ]
     },
     "execution_count": 240,
     "metadata": {},
     "output_type": "execute_result"
    },
    {
     "data": {
      "image/png": "[encoded data removed]",
      "text/plain": [
       "<Figure size 864x504 with 1 Axes>"
      ]
     },
     "metadata": {
      "needs_background": "light"
     },
     "output_type": "display_data"
    }
   ],
   "source": [
    "fig, ax = plt.subplots(1, figsize=(12,7))\n",
    "\n",
    "ax.hist(bootstrap_mpro_swim, bins=25, density=True, color='blue', alpha=0.8, label='Sample Swim Time Medians')\n",
    "ax.hist(times(male_pro, 'Swim'), bins=25, density=True, color=\"blue\", alpha=0.5, label=\"Sample Swims\")\n",
    "ax.set_title('Bootstrap Sample MPRO Swim Medians (1,000 Samples)', fontsize=20)\n",
    "ax.legend()\n",
    "ax.set_xlabel('Swim in Seconds', fontsize=15)"
   ]
  },
  {
   "cell_type": "code",
   "execution_count": 279,
   "metadata": {},
   "outputs": [],
   "source": [
    "male_pro_p = bootstrap_percentile(male_pro, 'Swim', 1000, 75)"
   ]
  },
  {
   "cell_type": "code",
   "execution_count": 280,
   "metadata": {},
   "outputs": [
    {
     "name": "stdout",
     "output_type": "stream",
     "text": [
      "Bootstrap Confidence Interval for Population 75th Percentile (minutes): [0.87, 0.87]\n"
     ]
    }
   ],
   "source": [
    "left = np.percentile(male_pro_p, 2.5)\n",
    "right = np.percentile(male_pro_p, 97.5)\n",
    "# 95 % Confident that this is our 75th Percentile\n",
    "print(f'Bootstrap Confidence Interval for Population 75th Percentile (minutes): [{round(left/60, 2)}, {round(right/60,2)}]')"
   ]
  },
  {
   "cell_type": "code",
   "execution_count": 296,
   "metadata": {},
   "outputs": [
    {
     "data": {
      "text/plain": [
       "Text(0.5, 0, 'Swim in Seconds')"
      ]
     },
     "execution_count": 296,
     "metadata": {},
     "output_type": "execute_result"
    },
    {
     "data": {
      "image/png": "[encoded data removed]",
      "text/plain": [
       "<Figure size 864x288 with 1 Axes>"
      ]
     },
     "metadata": {
      "needs_background": "light"
     },
     "output_type": "display_data"
    }
   ],
   "source": [
    "fig, ax = plt.subplots(1, figsize=(12,4))\n",
    "\n",
    "ax.hist(male_pro_p, bins=50, density=True, color='b', alpha=0.6)\n",
    "ax.set_title('Bootstrap Sample MPRO Swim 75 Percentiles', fontsize=20)\n",
    "ax.set_xlabel('Swim in Seconds', fontsize=15)"
   ]
  },
  {
   "cell_type": "code",
   "execution_count": 251,
   "metadata": {},
   "outputs": [],
   "source": [
    "# *********************** GO BACK AND COMBINE FEM & MALE PRO GRAPHS!!! ************************* "
   ]
  },
  {
   "cell_type": "code",
   "execution_count": 282,
   "metadata": {},
   "outputs": [],
   "source": [
    "fem_pro_10p = bootstrap_percentile(fem_pro, 'Swim', 1000, 10)\n",
    "male_pro_10p = bootstrap_percentile(male_pro, 'Swim', 1000, 10)"
   ]
  },
  {
   "cell_type": "code",
   "execution_count": 277,
   "metadata": {},
   "outputs": [
    {
     "data": {
      "image/png": "[encoded data removed]",
      "text/plain": [
       "<Figure size 864x288 with 2 Axes>"
      ]
     },
     "metadata": {
      "needs_background": "light"
     },
     "output_type": "display_data"
    }
   ],
   "source": [
    "fig, ax = plt.subplots(2, 1, figsize=(12,4))\n",
    "\n",
    "ax[0].hist(fem_pro_10p, bins=50, density=True, color='pink', alpha=0.8, label='FPRO')\n",
    "ax[1].hist(male_pro_10p, bins=50, density=True, color='b', alpha=0.7, label='MPRO')\n",
    "plt.tight_layout()"
   ]
  },
  {
   "cell_type": "code",
   "execution_count": 376,
   "metadata": {},
   "outputs": [
    {
     "name": "stdout",
     "output_type": "stream",
     "text": [
      "Female Pro Swim Times Bootstrap Confidence Interval for Population 10th Percentile (minutes): [49.13, 54.33]\n",
      "Male Pro Swim Times Bootstrap Confidence Interval for Population 10th Percentile (minutes): [47.52, 50.88]\n"
     ]
    }
   ],
   "source": [
    "# 95 % Confident that this is our 10th Percentile\n",
    "\n",
    "left_swimf10p = np.percentile(fem_pro_10p, 2.5)\n",
    "right_swimf10p = np.percentile(fem_pro_10p, 97.5)\n",
    "\n",
    "left_swimm10p = np.percentile(male_pro_10p, 2.5)\n",
    "right_swimm10p = np.percentile(male_pro_10p, 97.5)\n",
    "\n",
    "print(f'Female Pro Swim Times Bootstrap Confidence Interval for Population 10th Percentile (minutes): [{round(left_swimf10p, 2)}, {round(right_swimf10p,2)}]')\n",
    "\n",
    "print(f'Male Pro Swim Times Bootstrap Confidence Interval for Population 10th Percentile (minutes): [{round(left_swimm10p, 2)}, {round(right_swimm10p,2)}]')\n"
   ]
  },
  {
   "cell_type": "markdown",
   "metadata": {},
   "source": [
    "In effort to answer the question, how fast do you need to swim to be considered a pro? We can see our 95% confidence interval for the 10th percentile of Female and Male Pro swim times. Therefore, if you swim in, or faster than this 10th percentile, I am 95% confidence you are considered a pro swimming triathlete!"
   ]
  },
  {
   "cell_type": "markdown",
   "metadata": {},
   "source": [
    "# Let's answer the same question for biking and running, how fast do you need to Bike and Run to be considered a pro?"
   ]
  },
  {
   "cell_type": "code",
   "execution_count": 377,
   "metadata": {},
   "outputs": [
    {
     "name": "stdout",
     "output_type": "stream",
     "text": [
      "Female Pro Bike Times Bootstrap Confidence Interval for Population 10th Percentile (hours): [4.75, 4.87]\n",
      "Male Pro Bike Times Bootstrap Confidence Interval for Population 10th Percentile (hours): [4.25, 4.33]\n"
     ]
    }
   ],
   "source": [
    "fem_bike_10p = bootstrap_percentile(fem_pro, 'Bike', 1000, 10)\n",
    "male_bike_10p = bootstrap_percentile(male_pro, 'Bike', 1000, 10)\n",
    "\n",
    "left_bikef10p = np.percentile(fem_bike_10p, 2.5)\n",
    "right_bikef10p = np.percentile(fem_bike_10p, 97.5)\n",
    "\n",
    "left_bikem10p = np.percentile(male_bike_10p, 2.5)\n",
    "right_bikem10p = np.percentile(male_bike_10p, 97.5)\n",
    "\n",
    "print(f'Female Pro Bike Times Bootstrap Confidence Interval for Population 10th Percentile (hours): [{round(left_bikef10p/3600, 2)}, {round(right_bikef10p/3600,2)}]')\n",
    "\n",
    "print(f'Male Pro Bike Times Bootstrap Confidence Interval for Population 10th Percentile (hours): [{round(left_bikem10p/3600, 2)}, {round(right_bikem10p/3600,2)}]')\n"
   ]
  },
  {
   "cell_type": "code",
   "execution_count": 378,
   "metadata": {},
   "outputs": [
    {
     "name": "stdout",
     "output_type": "stream",
     "text": [
      "Female Pro Run Times Bootstrap Confidence Interval for Population 10th Percentile (hours): [2.96, 3.08]\n",
      "Male Pro Run Times Bootstrap Confidence Interval for Population 10th Percentile (hours): [2.72, 2.88]\n"
     ]
    }
   ],
   "source": [
    "fem_run_10p = bootstrap_percentile(fem_pro, 'Run', 1000, 10)\n",
    "male_run_10p = bootstrap_percentile(male_pro, 'Run', 1000, 10)\n",
    "\n",
    "left_runf10p = np.percentile(fem_run_10p, 2.5)\n",
    "right_runf10p = np.percentile(fem_run_10p, 97.5)\n",
    "\n",
    "left_runm10p = np.percentile(male_run_10p, 2.5)\n",
    "right_runm10p = np.percentile(male_run_10p, 97.5)\n",
    "\n",
    "print(f'Female Pro Run Times Bootstrap Confidence Interval for Population 10th Percentile (hours): [{round(left_runf10p/3600, 2)}, {round(right_runf10p/3600,2)}]')\n",
    "\n",
    "print(f'Male Pro Run Times Bootstrap Confidence Interval for Population 10th Percentile (hours): [{round(left_runm10p/3600, 2)}, {round(right_runm10p/3600,2)}]')\n"
   ]
  },
  {
   "cell_type": "markdown",
   "metadata": {},
   "source": [
    "Something to keep in mind is that to be considered pro, you would need to compete in this percentile range (or faster) and have done all triathlon activities in the same order: swim-bike-run."
   ]
  },
  {
   "cell_type": "markdown",
   "metadata": {},
   "source": [
    "# Next question: how many amateurs are racing like pros?"
   ]
  },
  {
   "cell_type": "code",
   "execution_count": 373,
   "metadata": {},
   "outputs": [],
   "source": [
    "m_agegroups_sw = (timedeltToSec(male_agegroups, 'Swim')) / 60\n",
    "f_agegroups_sw = (timedeltToSec(fem_agegroups, 'Swim')) / 60"
   ]
  },
  {
   "cell_type": "code",
   "execution_count": 379,
   "metadata": {},
   "outputs": [
    {
     "data": {
      "text/plain": [
       "<matplotlib.legend.Legend at 0x7f21ce10e910>"
      ]
     },
     "execution_count": 379,
     "metadata": {},
     "output_type": "execute_result"
    },
    {
     "data": {
      "image/png": "[encoded data removed]",
      "text/plain": [
       "<Figure size 864x288 with 1 Axes>"
      ]
     },
     "metadata": {
      "needs_background": "light"
     },
     "output_type": "display_data"
    }
   ],
   "source": [
    "fig, ax = plt.subplots(1, figsize=(12,4))\n",
    "\n",
    "ax.hist(m_agegroups_sw, bins=100, density=True, color='grey', alpha=0.75, label='Male Amateur Swim Times')\n",
    "ax.hist(f_agegroups_sw, bins=100, density=True, color='pink', alpha=0.75, label='Female Amateur Swim Times')\n",
    "ax.axvline(left_swimf10p, c='red', linestyle=\"--\", label='Female Pro 10 Percentile')\n",
    "ax.axvline(right_swimf10p, c='red', linestyle=\"--\")\n",
    "ax.axvline(left_swimm10p, c='black', linestyle=\"--\", label='Male Pro 10 Percentile')\n",
    "ax.axvline(right_swimm10p, c='black', linestyle=\"--\")\n",
    "ax.set_xbound(45, 60)\n",
    "ax.set_xlabel('Swim Times in Minutes', fontsize=15)\n",
    "ax.legend()"
   ]
  },
  {
   "cell_type": "code",
   "execution_count": 386,
   "metadata": {},
   "outputs": [
    {
     "name": "stdout",
     "output_type": "stream",
     "text": [
      "Percent of male amateurs who swim like pros: 0.002489110143123833\n",
      "Percent of female amateurs who swim like pros: 0.0034904013961605585\n"
     ]
    }
   ],
   "source": [
    "m_sw = m_agegroups_sw[m_agegroups_sw <= right_swimm10p]\n",
    "f_sw = f_agegroups_sw[f_agegroups_sw <= right_swimf10p]\n",
    "mam_pros_sw = len(m_sw) / len(m_agegroups_sw)\n",
    "fam_pros_sw = len(f_sw) / len(f_agegroups_sw)\n",
    "print(f'Percent of male amateurs who swim like pros: {mam_pros_sw}')\n",
    "print(f'Percent of female amateurs who swim like pros: {fam_pros_sw}')"
   ]
  },
  {
   "cell_type": "code",
   "execution_count": 375,
   "metadata": {},
   "outputs": [],
   "source": [
    "m_agegroups_b = (timedeltToSec(male_agegroups, 'Bike')) / 60\n",
    "f_agegroups_b = (timedeltToSec(fem_agegroups, 'Bike')) / 60"
   ]
  },
  {
   "cell_type": "code",
   "execution_count": 385,
   "metadata": {},
   "outputs": [
    {
     "data": {
      "text/plain": [
       "<matplotlib.legend.Legend at 0x7f21cd347eb0>"
      ]
     },
     "execution_count": 385,
     "metadata": {},
     "output_type": "execute_result"
    },
    {
     "data": {
      "image/png": "[encoded data removed]",
      "text/plain": [
       "<Figure size 864x288 with 1 Axes>"
      ]
     },
     "metadata": {
      "needs_background": "light"
     },
     "output_type": "display_data"
    }
   ],
   "source": [
    "fig, ax = plt.subplots(1, figsize=(12,4))\n",
    "\n",
    "ax.hist(m_agegroups_b, bins=100, density=True, color='grey', alpha=0.75, label='Male Amateur Bike Times')\n",
    "ax.hist(f_agegroups_b, bins=100, density=True, color='pink', alpha=0.75, label='Female Amateur Bike Times')\n",
    "ax.axvline(left_bikef10p/60, c='red', linestyle=\"--\", label='Female Pro 10 Percentile')\n",
    "ax.axvline(right_bikef10p/60, c='red', linestyle=\"--\")\n",
    "ax.axvline(left_bikem10p/60, c='black', linestyle=\"--\", label='Male Pro 10 Percentile')\n",
    "ax.axvline(right_bikem10p/60, c='black', linestyle=\"--\")\n",
    "ax.set_xlabel('Bike Times in Minutes', fontsize=15)\n",
    "ax.legend()"
   ]
  },
  {
   "cell_type": "code",
   "execution_count": 390,
   "metadata": {},
   "outputs": [
    {
     "name": "stdout",
     "output_type": "stream",
     "text": [
      "29      277.900000\n",
      "34      280.833333\n",
      "36      280.600000\n",
      "39      290.050000\n",
      "40      282.733333\n",
      "           ...    \n",
      "2250    447.166667\n",
      "2251    449.850000\n",
      "2254    471.333333\n",
      "2256    462.150000\n",
      "2257    477.400000\n",
      "Name: Bike, Length: 1607, dtype: float64\n",
      "Percent of male amateurs who bike like pros: 1.0\n",
      "Percent of female amateurs who bike like pros: 1.0\n"
     ]
    }
   ],
   "source": [
    "m_b = m_agegroups_b[m_agegroups_b <= right_bikem10p]\n",
    "f_b = f_agegroups_b[f_agegroups_b <= right_bikef10p]\n",
    "print(m_b)\n",
    "mam_pros_b = len(m_b) / len(m_agegroups_b)\n",
    "fam_pros_b = len(f_b) / len(f_agegroups_b)\n",
    "print(f'Percent of male amateurs who bike like pros: {mam_pros_b}')\n",
    "print(f'Percent of female amateurs who bike like pros: {fam_pros_b}')"
   ]
  },
  {
   "cell_type": "code",
   "execution_count": null,
   "metadata": {},
   "outputs": [],
   "source": []
  }
 ],
 "metadata": {
  "kernelspec": {
   "display_name": "Python 3",
   "language": "python",
   "name": "python3"
  },
  "language_info": {
   "codemirror_mode": {
    "name": "ipython",
    "version": 3
   },
   "file_extension": ".py",
   "mimetype": "text/x-python",
   "name": "python",
   "nbconvert_exporter": "python",
   "pygments_lexer": "ipython3",
   "version": "3.8.3"
  }
 },
 "nbformat": 4,
 "nbformat_minor": 4
}
