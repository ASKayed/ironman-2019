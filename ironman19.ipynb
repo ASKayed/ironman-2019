{
 "cells": [
  {
   "cell_type": "code",
   "execution_count": 1,
   "metadata": {},
   "outputs": [],
   "source": [
    "import pyspark as ps\n",
    "from pyspark.sql.types import *\n",
    "import pandas as pd\n",
    "import numpy as np\n",
    "import matplotlib.pyplot as plt\n",
    "from datetime import datetime, date, time"
   ]
  },
  {
   "cell_type": "code",
   "execution_count": 2,
   "metadata": {},
   "outputs": [],
   "source": [
    "spark = ps.sql.SparkSession.builder \\\n",
    "            .master(\"local[4]\") \\\n",
    "            .appName(\"df case study\") \\\n",
    "            .getOrCreate()\n",
    "sc = spark.sparkContext"
   ]
  },
  {
   "cell_type": "code",
   "execution_count": 3,
   "metadata": {},
   "outputs": [],
   "source": [
    "results_df = spark.read.csv('data/2019-Ironman-World-Championship-Results.csv',\n",
    "                            header=True,\n",
    "                            quote='\"',\n",
    "                            sep=',',\n",
    "                            inferSchema=True)"
   ]
  },
  {
   "cell_type": "code",
   "execution_count": 4,
   "metadata": {},
   "outputs": [],
   "source": [
    "results_df.createOrReplaceTempView('df')"
   ]
  },
  {
   "cell_type": "code",
   "execution_count": 5,
   "metadata": {},
   "outputs": [
    {
     "name": "stdout",
     "output_type": "stream",
     "text": [
      "root\n",
      " |-- BIB: integer (nullable = true)\n",
      " |-- Name: string (nullable = true)\n",
      " |-- Country: string (nullable = true)\n",
      " |-- Gender: string (nullable = true)\n",
      " |-- Division: string (nullable = true)\n",
      " |-- Swim: string (nullable = true)\n",
      " |-- Bike: string (nullable = true)\n",
      " |-- Run: string (nullable = true)\n",
      " |-- Overall: string (nullable = true)\n",
      " |-- Division Rank: string (nullable = true)\n",
      " |-- Gender Rank: string (nullable = true)\n",
      " |-- Overall Rank: string (nullable = true)\n",
      " |-- T1: string (nullable = true)\n",
      " |-- T2: string (nullable = true)\n",
      "\n"
     ]
    },
    {
     "data": {
      "text/plain": [
       "['BIB',\n",
       " 'Name',\n",
       " 'Country',\n",
       " 'Gender',\n",
       " 'Division',\n",
       " 'Swim',\n",
       " 'Bike',\n",
       " 'Run',\n",
       " 'Overall',\n",
       " 'Division Rank',\n",
       " 'Gender Rank',\n",
       " 'Overall Rank',\n",
       " 'T1',\n",
       " 'T2']"
      ]
     },
     "execution_count": 5,
     "metadata": {},
     "output_type": "execute_result"
    }
   ],
   "source": [
    "results_df.printSchema()\n",
    "results_df.columns"
   ]
  },
  {
   "cell_type": "code",
   "execution_count": 6,
   "metadata": {},
   "outputs": [],
   "source": [
    "df = results_df.toPandas()\n",
    "df.drop(['BIB'],axis=1,inplace=True)"
   ]
  },
  {
   "cell_type": "code",
   "execution_count": 7,
   "metadata": {},
   "outputs": [
    {
     "data": {
      "text/plain": [
       "Name                      object\n",
       "Country                   object\n",
       "Gender                    object\n",
       "Division                  object\n",
       "Swim             timedelta64[ns]\n",
       "Bike             timedelta64[ns]\n",
       "Run              timedelta64[ns]\n",
       "Overall          timedelta64[ns]\n",
       "Division Rank             object\n",
       "Gender Rank               object\n",
       "Overall Rank              object\n",
       "T1               timedelta64[ns]\n",
       "T2               timedelta64[ns]\n",
       "dtype: object"
      ]
     },
     "execution_count": 7,
     "metadata": {},
     "output_type": "execute_result"
    }
   ],
   "source": [
    "# Convert None in Swim, Bike, Run, Overall, T1, and T2 to datetime\n",
    "# These need to be converted to time intervals NOT datetime (<- time stamp)\n",
    "# pd.to_timedelta\n",
    "cols_to_clean = ['Swim', 'Bike', 'Run', 'Overall', 'T1', 'T2']\n",
    "df[cols_to_clean] = df[cols_to_clean].apply(pd.to_timedelta, unit='s')\n",
    "df.dtypes"
   ]
  },
  {
   "cell_type": "code",
   "execution_count": 8,
   "metadata": {},
   "outputs": [
    {
     "data": {
      "text/html": [
       "<div>\n",
       "<style scoped>\n",
       "    .dataframe tbody tr th:only-of-type {\n",
       "        vertical-align: middle;\n",
       "    }\n",
       "\n",
       "    .dataframe tbody tr th {\n",
       "        vertical-align: top;\n",
       "    }\n",
       "\n",
       "    .dataframe thead th {\n",
       "        text-align: right;\n",
       "    }\n",
       "</style>\n",
       "<table border=\"1\" class=\"dataframe\">\n",
       "  <thead>\n",
       "    <tr style=\"text-align: right;\">\n",
       "      <th></th>\n",
       "      <th>Name</th>\n",
       "      <th>Country</th>\n",
       "      <th>Gender</th>\n",
       "      <th>Division</th>\n",
       "      <th>Swim</th>\n",
       "      <th>Bike</th>\n",
       "      <th>Run</th>\n",
       "      <th>Overall</th>\n",
       "      <th>Division Rank</th>\n",
       "      <th>Gender Rank</th>\n",
       "      <th>Overall Rank</th>\n",
       "      <th>T1</th>\n",
       "      <th>T2</th>\n",
       "    </tr>\n",
       "  </thead>\n",
       "  <tbody>\n",
       "    <tr>\n",
       "      <th>0</th>\n",
       "      <td>Frodeno, Jan</td>\n",
       "      <td>DEU</td>\n",
       "      <td>Male</td>\n",
       "      <td>MPRO</td>\n",
       "      <td>00:47:31</td>\n",
       "      <td>04:16:02</td>\n",
       "      <td>02:42:43</td>\n",
       "      <td>07:51:13</td>\n",
       "      <td>1</td>\n",
       "      <td>1</td>\n",
       "      <td>1</td>\n",
       "      <td>00:01:58</td>\n",
       "      <td>00:02:59</td>\n",
       "    </tr>\n",
       "    <tr>\n",
       "      <th>1</th>\n",
       "      <td>O'donnell, Tim</td>\n",
       "      <td>USA</td>\n",
       "      <td>Male</td>\n",
       "      <td>MPRO</td>\n",
       "      <td>00:47:38</td>\n",
       "      <td>04:18:11</td>\n",
       "      <td>02:49:45</td>\n",
       "      <td>07:59:41</td>\n",
       "      <td>2</td>\n",
       "      <td>2</td>\n",
       "      <td>2</td>\n",
       "      <td>00:02:01</td>\n",
       "      <td>00:02:06</td>\n",
       "    </tr>\n",
       "    <tr>\n",
       "      <th>2</th>\n",
       "      <td>Kienle, Sebastian</td>\n",
       "      <td>DEU</td>\n",
       "      <td>Male</td>\n",
       "      <td>MPRO</td>\n",
       "      <td>00:52:17</td>\n",
       "      <td>04:15:04</td>\n",
       "      <td>02:49:56</td>\n",
       "      <td>08:02:04</td>\n",
       "      <td>3</td>\n",
       "      <td>3</td>\n",
       "      <td>3</td>\n",
       "      <td>00:02:12</td>\n",
       "      <td>00:02:35</td>\n",
       "    </tr>\n",
       "    <tr>\n",
       "      <th>3</th>\n",
       "      <td>Hoffman, Ben</td>\n",
       "      <td>USA</td>\n",
       "      <td>Male</td>\n",
       "      <td>MPRO</td>\n",
       "      <td>00:51:01</td>\n",
       "      <td>04:24:01</td>\n",
       "      <td>02:43:08</td>\n",
       "      <td>08:02:52</td>\n",
       "      <td>4</td>\n",
       "      <td>4</td>\n",
       "      <td>4</td>\n",
       "      <td>00:02:25</td>\n",
       "      <td>00:02:17</td>\n",
       "    </tr>\n",
       "    <tr>\n",
       "      <th>4</th>\n",
       "      <td>Wurf, Cameron</td>\n",
       "      <td>AUS</td>\n",
       "      <td>Male</td>\n",
       "      <td>MPRO</td>\n",
       "      <td>00:52:25</td>\n",
       "      <td>04:14:44</td>\n",
       "      <td>02:55:03</td>\n",
       "      <td>08:06:41</td>\n",
       "      <td>5</td>\n",
       "      <td>5</td>\n",
       "      <td>5</td>\n",
       "      <td>00:02:07</td>\n",
       "      <td>00:02:22</td>\n",
       "    </tr>\n",
       "    <tr>\n",
       "      <th>...</th>\n",
       "      <td>...</td>\n",
       "      <td>...</td>\n",
       "      <td>...</td>\n",
       "      <td>...</td>\n",
       "      <td>...</td>\n",
       "      <td>...</td>\n",
       "      <td>...</td>\n",
       "      <td>...</td>\n",
       "      <td>...</td>\n",
       "      <td>...</td>\n",
       "      <td>...</td>\n",
       "      <td>...</td>\n",
       "      <td>...</td>\n",
       "    </tr>\n",
       "    <tr>\n",
       "      <th>2429</th>\n",
       "      <td>Sudut, Martin</td>\n",
       "      <td>USA</td>\n",
       "      <td>Male</td>\n",
       "      <td>M65-69</td>\n",
       "      <td>NaT</td>\n",
       "      <td>NaT</td>\n",
       "      <td>NaT</td>\n",
       "      <td>NaT</td>\n",
       "      <td>0</td>\n",
       "      <td>DNS</td>\n",
       "      <td>DNS</td>\n",
       "      <td>NaT</td>\n",
       "      <td>NaT</td>\n",
       "    </tr>\n",
       "    <tr>\n",
       "      <th>2430</th>\n",
       "      <td>Bourdillon, Patrick</td>\n",
       "      <td>USA</td>\n",
       "      <td>Male</td>\n",
       "      <td>M70-74</td>\n",
       "      <td>NaT</td>\n",
       "      <td>NaT</td>\n",
       "      <td>NaT</td>\n",
       "      <td>NaT</td>\n",
       "      <td>0</td>\n",
       "      <td>DNS</td>\n",
       "      <td>DNS</td>\n",
       "      <td>NaT</td>\n",
       "      <td>NaT</td>\n",
       "    </tr>\n",
       "    <tr>\n",
       "      <th>2431</th>\n",
       "      <td>Evenson, Even</td>\n",
       "      <td>USA</td>\n",
       "      <td>Male</td>\n",
       "      <td>M70-74</td>\n",
       "      <td>NaT</td>\n",
       "      <td>NaT</td>\n",
       "      <td>NaT</td>\n",
       "      <td>NaT</td>\n",
       "      <td>0</td>\n",
       "      <td>DNS</td>\n",
       "      <td>DNS</td>\n",
       "      <td>NaT</td>\n",
       "      <td>NaT</td>\n",
       "    </tr>\n",
       "    <tr>\n",
       "      <th>2432</th>\n",
       "      <td>Cooper, D. Mark</td>\n",
       "      <td>USA</td>\n",
       "      <td>Male</td>\n",
       "      <td>M75-79</td>\n",
       "      <td>NaT</td>\n",
       "      <td>NaT</td>\n",
       "      <td>NaT</td>\n",
       "      <td>NaT</td>\n",
       "      <td>0</td>\n",
       "      <td>DNS</td>\n",
       "      <td>DNS</td>\n",
       "      <td>NaT</td>\n",
       "      <td>NaT</td>\n",
       "    </tr>\n",
       "    <tr>\n",
       "      <th>2433</th>\n",
       "      <td>Boyle, Brian</td>\n",
       "      <td>NZL</td>\n",
       "      <td>Male</td>\n",
       "      <td>M80-84</td>\n",
       "      <td>NaT</td>\n",
       "      <td>NaT</td>\n",
       "      <td>NaT</td>\n",
       "      <td>NaT</td>\n",
       "      <td>0</td>\n",
       "      <td>DNS</td>\n",
       "      <td>DNS</td>\n",
       "      <td>NaT</td>\n",
       "      <td>NaT</td>\n",
       "    </tr>\n",
       "  </tbody>\n",
       "</table>\n",
       "<p>2434 rows × 13 columns</p>\n",
       "</div>"
      ],
      "text/plain": [
       "                     Name Country Gender Division     Swim     Bike      Run  \\\n",
       "0            Frodeno, Jan     DEU   Male     MPRO 00:47:31 04:16:02 02:42:43   \n",
       "1          O'donnell, Tim     USA   Male     MPRO 00:47:38 04:18:11 02:49:45   \n",
       "2       Kienle, Sebastian     DEU   Male     MPRO 00:52:17 04:15:04 02:49:56   \n",
       "3            Hoffman, Ben     USA   Male     MPRO 00:51:01 04:24:01 02:43:08   \n",
       "4           Wurf, Cameron     AUS   Male     MPRO 00:52:25 04:14:44 02:55:03   \n",
       "...                   ...     ...    ...      ...      ...      ...      ...   \n",
       "2429        Sudut, Martin     USA   Male   M65-69      NaT      NaT      NaT   \n",
       "2430  Bourdillon, Patrick     USA   Male   M70-74      NaT      NaT      NaT   \n",
       "2431        Evenson, Even     USA   Male   M70-74      NaT      NaT      NaT   \n",
       "2432      Cooper, D. Mark     USA   Male   M75-79      NaT      NaT      NaT   \n",
       "2433         Boyle, Brian     NZL   Male   M80-84      NaT      NaT      NaT   \n",
       "\n",
       "      Overall  Division Rank Gender Rank Overall Rank       T1       T2  \n",
       "0    07:51:13              1           1            1 00:01:58 00:02:59  \n",
       "1    07:59:41              2           2            2 00:02:01 00:02:06  \n",
       "2    08:02:04              3           3            3 00:02:12 00:02:35  \n",
       "3    08:02:52              4           4            4 00:02:25 00:02:17  \n",
       "4    08:06:41              5           5            5 00:02:07 00:02:22  \n",
       "...       ...            ...         ...          ...      ...      ...  \n",
       "2429      NaT              0         DNS          DNS      NaT      NaT  \n",
       "2430      NaT              0         DNS          DNS      NaT      NaT  \n",
       "2431      NaT              0         DNS          DNS      NaT      NaT  \n",
       "2432      NaT              0         DNS          DNS      NaT      NaT  \n",
       "2433      NaT              0         DNS          DNS      NaT      NaT  \n",
       "\n",
       "[2434 rows x 13 columns]"
      ]
     },
     "execution_count": 8,
     "metadata": {},
     "output_type": "execute_result"
    }
   ],
   "source": [
    "# Convert DNS & DNF to 0\n",
    "df.loc[df['Division Rank'] == 'DNS', 'Division Rank'] = 0\n",
    "df.loc[df['Division Rank'] == 'DNF', 'Division Rank'] = 0\n",
    "df.loc[df['Division Rank'] == 'DQ', 'Division Rank'] = 0\n",
    "df['Division Rank'] = df['Division Rank'].astype(int)\n",
    "\n",
    "df"
   ]
  },
  {
   "cell_type": "code",
   "execution_count": 9,
   "metadata": {},
   "outputs": [
    {
     "data": {
      "text/plain": [
       "\"\\nmale_F18 = male_results[male_results['Division'] == 'M18-24']\\nmale_F25 = male_results[male_results['Division'] == 'M25-29']\\nmale_F30 = male_results[male_results['Division'] == 'M30-34']\\nmale_F35 = male_results[male_results['Division'] == 'M35-39']\\nmale_F40 = male_results[male_results['Division'] == 'M40-44']\\nmale_F45 = male_results[male_results['Division'] == 'M45-49']\\nmale_F50 = male_results[male_results['Division'] == 'M50-54']\\nmale_F55 = male_results[male_results['Division'] == 'M55-59']\\nmale_F60 = male_results[male_results['Division'] == 'M60-64']\\nmale_F65 = male_results[male_results['Division'] == 'M66-69']\\nmale_F70 = male_results[male_results['Division'] == 'M70-74']\\nmale_F75 = male_results[male_results['Division'] == 'M75-79']\\nmale_F80 = male_results[male_results['Division'] == 'M80-84']\""
      ]
     },
     "execution_count": 9,
     "metadata": {},
     "output_type": "execute_result"
    }
   ],
   "source": [
    "male_results = df[df['Gender'] == 'Male']\n",
    "male_pro = male_results[male_results['Division'] == 'MPRO']\n",
    "male_agegroups = male_results[male_results['Division'] != 'MPRO']\n",
    "'''\n",
    "male_F18 = male_results[male_results['Division'] == 'M18-24']\n",
    "male_F25 = male_results[male_results['Division'] == 'M25-29']\n",
    "male_F30 = male_results[male_results['Division'] == 'M30-34']\n",
    "male_F35 = male_results[male_results['Division'] == 'M35-39']\n",
    "male_F40 = male_results[male_results['Division'] == 'M40-44']\n",
    "male_F45 = male_results[male_results['Division'] == 'M45-49']\n",
    "male_F50 = male_results[male_results['Division'] == 'M50-54']\n",
    "male_F55 = male_results[male_results['Division'] == 'M55-59']\n",
    "male_F60 = male_results[male_results['Division'] == 'M60-64']\n",
    "male_F65 = male_results[male_results['Division'] == 'M66-69']\n",
    "male_F70 = male_results[male_results['Division'] == 'M70-74']\n",
    "male_F75 = male_results[male_results['Division'] == 'M75-79']\n",
    "male_F80 = male_results[male_results['Division'] == 'M80-84']'''"
   ]
  },
  {
   "cell_type": "code",
   "execution_count": 10,
   "metadata": {},
   "outputs": [
    {
     "data": {
      "text/plain": [
       "\"\\nfem_F18 = fem_results[fem_results['Division'] == 'F18-24']\\nfem_F25 = fem_results[fem_results['Division'] == 'F25-29']\\nfem_F30 = fem_results[fem_results['Division'] == 'F30-34']\\nfem_F35 = fem_results[fem_results['Division'] == 'F35-39']\\nfem_F40 = fem_results[fem_results['Division'] == 'F40-44']\\nfem_F45 = fem_results[fem_results['Division'] == 'F45-49']\\nfem_F50 = fem_results[fem_results['Division'] == 'F50-54']\\nfem_F55 = fem_results[fem_results['Division'] == 'F55-59']\\nfem_F60 = fem_results[fem_results['Division'] == 'F60-64']\\nfem_F65 = fem_results[fem_results['Division'] == 'F66-69']\\nfem_F70 = fem_results[fem_results['Division'] == 'F70-74']\""
      ]
     },
     "execution_count": 10,
     "metadata": {},
     "output_type": "execute_result"
    }
   ],
   "source": [
    "fem_results = df[df['Gender'] == 'Female']\n",
    "fem_pro = fem_results[fem_results['Division'] == 'FPRO']\n",
    "fem_agegroups = fem_results[fem_results['Division'] != 'FPRO']\n",
    "'''\n",
    "fem_F18 = fem_results[fem_results['Division'] == 'F18-24']\n",
    "fem_F25 = fem_results[fem_results['Division'] == 'F25-29']\n",
    "fem_F30 = fem_results[fem_results['Division'] == 'F30-34']\n",
    "fem_F35 = fem_results[fem_results['Division'] == 'F35-39']\n",
    "fem_F40 = fem_results[fem_results['Division'] == 'F40-44']\n",
    "fem_F45 = fem_results[fem_results['Division'] == 'F45-49']\n",
    "fem_F50 = fem_results[fem_results['Division'] == 'F50-54']\n",
    "fem_F55 = fem_results[fem_results['Division'] == 'F55-59']\n",
    "fem_F60 = fem_results[fem_results['Division'] == 'F60-64']\n",
    "fem_F65 = fem_results[fem_results['Division'] == 'F66-69']\n",
    "fem_F70 = fem_results[fem_results['Division'] == 'F70-74']'''"
   ]
  },
  {
   "cell_type": "code",
   "execution_count": 11,
   "metadata": {},
   "outputs": [
    {
     "data": {
      "text/plain": [
       "<matplotlib.lines.Line2D at 0x7f8e04483b50>"
      ]
     },
     "execution_count": 11,
     "metadata": {},
     "output_type": "execute_result"
    },
    {
     "data": {
      "image/png": "[encoded data removed]",
      "text/plain": [
       "<Figure size 720x432 with 1 Axes>"
      ]
     },
     "metadata": {
      "needs_background": "light"
     },
     "output_type": "display_data"
    }
   ],
   "source": [
    "xf = fem_pro['Division Rank']\n",
    "yf = fem_pro['Swim'].apply(lambda x: x.total_seconds())\n",
    "xm = male_pro['Division Rank']\n",
    "ym = male_pro['Swim'].apply(lambda x: x.total_seconds())\n",
    "\n",
    "fig, ax = plt.subplots(figsize=(10,6))\n",
    "ax.scatter(xf, yf, c='pink')\n",
    "ax.scatter(xm, ym)\n",
    "\n",
    "ax.set_title('Pro Swim Times by Ranking')\n",
    "ax.set_xlabel('Rank')\n",
    "ax.set_ylabel('Swim Time (seconds)')\n",
    "\n",
    "ax.axvline(1, c='pink', linestyle=\"--\")\n",
    "ax.axvline(xf.max(), c='pink', linestyle=\"--\")\n",
    "ax.axvline(1, c='grey', linestyle=\"--\")\n",
    "ax.axvline(xm.max(), c='grey', linestyle=\"--\")"
   ]
  },
  {
   "cell_type": "code",
   "execution_count": 12,
   "metadata": {},
   "outputs": [
    {
     "data": {
      "text/plain": [
       "<matplotlib.lines.Line2D at 0x7f8e043fe6a0>"
      ]
     },
     "execution_count": 12,
     "metadata": {},
     "output_type": "execute_result"
    },
    {
     "data": {
      "image/png": "[encoded data removed]",
      "text/plain": [
       "<Figure size 720x432 with 1 Axes>"
      ]
     },
     "metadata": {
      "needs_background": "light"
     },
     "output_type": "display_data"
    }
   ],
   "source": [
    "xf = fem_pro['Division Rank']\n",
    "yf = fem_pro['Bike'].apply(lambda x: x.total_seconds())\n",
    "xm = male_pro['Division Rank']\n",
    "ym = male_pro['Bike'].apply(lambda x: x.total_seconds())\n",
    "\n",
    "fig, ax = plt.subplots(figsize=(10,6))\n",
    "ax.scatter(xf, yf, c='pink')\n",
    "ax.scatter(xm, ym)\n",
    "\n",
    "ax.set_title('Pro Bike Times by Ranking')\n",
    "ax.set_xlabel('Rank')\n",
    "ax.set_ylabel('Bike Time (seconds)')\n",
    "\n",
    "ax.axvline(1, c='pink', linestyle=\"--\")\n",
    "ax.axvline(xf.max(), c='pink', linestyle=\"--\")\n",
    "ax.axvline(1, c='grey', linestyle=\"--\")\n",
    "ax.axvline(xm.max(), c='grey', linestyle=\"--\")"
   ]
  },
  {
   "cell_type": "code",
   "execution_count": 13,
   "metadata": {},
   "outputs": [
    {
     "data": {
      "text/plain": [
       "<matplotlib.lines.Line2D at 0x7f8e043bc760>"
      ]
     },
     "execution_count": 13,
     "metadata": {},
     "output_type": "execute_result"
    },
    {
     "data": {
      "image/png": "[encoded data removed]",
      "text/plain": [
       "<Figure size 720x432 with 1 Axes>"
      ]
     },
     "metadata": {
      "needs_background": "light"
     },
     "output_type": "display_data"
    }
   ],
   "source": [
    "xf = fem_pro['Division Rank']\n",
    "yf = fem_pro['Run'].apply(lambda x: x.total_seconds())\n",
    "xm = male_pro['Division Rank']\n",
    "ym = male_pro['Run'].apply(lambda x: x.total_seconds())\n",
    "\n",
    "fig, ax = plt.subplots(figsize=(10,6))\n",
    "ax.scatter(xf, yf, c='pink')\n",
    "ax.scatter(xm, ym)\n",
    "\n",
    "ax.set_title('Pro Run Times by Ranking')\n",
    "ax.set_xlabel('Rank')\n",
    "ax.set_ylabel('Run Time (seconds)')\n",
    "\n",
    "ax.axvline(1, c='pink', linestyle=\"--\")\n",
    "ax.axvline(xf.max(), c='pink', linestyle=\"--\")\n",
    "ax.axvline(1, c='grey', linestyle=\"--\")\n",
    "ax.axvline(xm.max(), c='grey', linestyle=\"--\")"
   ]
  },
  {
   "cell_type": "code",
   "execution_count": 14,
   "metadata": {},
   "outputs": [
    {
     "data": {
      "text/plain": [
       "<matplotlib.lines.Line2D at 0x7f8e043bc9a0>"
      ]
     },
     "execution_count": 14,
     "metadata": {},
     "output_type": "execute_result"
    },
    {
     "data": {
      "image/png": "[encoded data removed]",
      "text/plain": [
       "<Figure size 720x432 with 1 Axes>"
      ]
     },
     "metadata": {
      "needs_background": "light"
     },
     "output_type": "display_data"
    }
   ],
   "source": [
    "xf = fem_pro['Division Rank']\n",
    "yf = fem_pro['Overall'].apply(lambda x: x.total_seconds())\n",
    "xm = male_pro['Division Rank']\n",
    "ym = male_pro['Overall'].apply(lambda x: x.total_seconds())\n",
    "\n",
    "fig, ax = plt.subplots(figsize=(10,6))\n",
    "ax.scatter(xf, yf, c='pink')\n",
    "ax.scatter(xm, ym)\n",
    "\n",
    "ax.set_title('Pro Overall Times by Ranking')\n",
    "ax.set_xlabel('Rank')\n",
    "ax.set_ylabel('Overall Time (seconds)')\n",
    "\n",
    "ax.axvline(1, c='pink', linestyle=\"--\")\n",
    "ax.axvline(xf.max(), c='pink', linestyle=\"--\")\n",
    "ax.axvline(1, c='grey', linestyle=\"--\")\n",
    "ax.axvline(xm.max(), c='grey', linestyle=\"--\")"
   ]
  },
  {
   "cell_type": "markdown",
   "metadata": {},
   "source": [
    "## Next steps: what effects do fast Swim, Bike, or Run times have on Overall Ranking?"
   ]
  },
  {
   "cell_type": "code",
   "execution_count": 15,
   "metadata": {},
   "outputs": [],
   "source": [
    "import seaborn as sns\n",
    "\n",
    "#covariance = cov(data1, data2)\n",
    "#sns.heatmap(df_new.corr(), annot = True, fmt='.1g', square=True)"
   ]
  },
  {
   "cell_type": "code",
   "execution_count": 30,
   "metadata": {},
   "outputs": [],
   "source": [
    "corr_df = df.drop(['Name', 'Gender Rank', 'Country', 'Division'], axis=1)\n"
   ]
  },
  {
   "cell_type": "code",
   "execution_count": null,
   "metadata": {},
   "outputs": [],
   "source": [
    "ax = sns.heatmap(corr_df, annot=True, square=True)"
   ]
  },
  {
   "cell_type": "code",
   "execution_count": null,
   "metadata": {},
   "outputs": [],
   "source": []
  }
 ],
 "metadata": {
  "kernelspec": {
   "display_name": "Python 3",
   "language": "python",
   "name": "python3"
  },
  "language_info": {
   "codemirror_mode": {
    "name": "ipython",
    "version": 3
   },
   "file_extension": ".py",
   "mimetype": "text/x-python",
   "name": "python",
   "nbconvert_exporter": "python",
   "pygments_lexer": "ipython3",
   "version": "3.8.3"
  }
 },
 "nbformat": 4,
 "nbformat_minor": 4
}
